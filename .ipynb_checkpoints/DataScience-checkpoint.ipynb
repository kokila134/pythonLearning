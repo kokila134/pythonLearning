{
 "cells": [
  {
   "cell_type": "code",
   "execution_count": 7,
   "metadata": {},
   "outputs": [
    {
     "name": "stdout",
     "output_type": "stream",
     "text": [
      "<class 'numpy.ndarray'>\n",
      "<class 'numpy.ndarray'>\n",
      "[10.23469388 11.15354096 10.70488067 10.34470373 10.90805396]\n"
     ]
    },
    {
     "data": {
      "text/plain": [
       "array([11.15354096, 10.70488067, 10.90805396])"
      ]
     },
     "execution_count": 7,
     "metadata": {},
     "output_type": "execute_result"
    }
   ],
   "source": [
    "#Numpy arrays\n",
    "\n",
    "#two lists named height and weight are initialized\n",
    "height=[2.80,2.84,2.91,2.89,2.84]    \n",
    "weight=[80.24,89.96,90.65,86.40,87.98]\n",
    "\n",
    "#import 'numpy' as 'np'\n",
    "import numpy as np\n",
    "np_height=np.array(height)\n",
    "np_weight=np.array(weight)\n",
    "\n",
    "print(type(np_height))   # returns class 'numpy.ndarray'\n",
    "print(type(np_weight))\n",
    "\n",
    "#finding body mass index(BMI) for all the 5 values\n",
    "bmi=np_weight/np_height**2\n",
    "print(bmi)\n",
    "\n",
    "#finding values greater than 10.50\n",
    "# For a boolean response\n",
    "bmi > 10.50\n",
    "\n",
    "# Print only those observations above 10.50\n",
    "bmi[bmi > 10.50]\n",
    "\n"
   ]
  },
  {
   "cell_type": "code",
   "execution_count": 8,
   "metadata": {},
   "outputs": [
    {
     "name": "stdout",
     "output_type": "stream",
     "text": [
      "[37.11363636 44.32727273 43.29545455 42.26363636 39.17272727 40.20454545]\n"
     ]
    }
   ],
   "source": [
    "#Weight convertor\n",
    "weight_kg = [81.65, 97.52, 95.25, 92.98, 86.18, 88.45]\n",
    "\n",
    "import numpy as np\n",
    "\n",
    "# Create a numpy array np_weight_kg from weight_kg\n",
    "np_weight_kg=np.array(weight_kg) \n",
    "\n",
    "# Create np_weight_lbs from np_weight_kg\n",
    "np_weight_lbs=np_weight_kg/2.2\n",
    "\n",
    "# Print out np_weight_lbs\n",
    "print(np_weight_lbs)"
   ]
  },
  {
   "cell_type": "code",
   "execution_count": 9,
   "metadata": {},
   "outputs": [
    {
     "name": "stdout",
     "output_type": "stream",
     "text": [
      "   country    capital    area  population\n",
      "0    India  New Delhi   8.516       200.4\n",
      "1    China    Beijing  17.100       143.5\n",
      "2  Germany     Berlin   3.286      1252.0\n",
      "3  Belgium   Brussels   9.597      1357.0\n"
     ]
    }
   ],
   "source": [
    "#Pandas\n",
    "dict={\"country\":[\"India\",\"China\",\"Germany\",\"Belgium\"],\n",
    "     \"capital\":[\"New Delhi\",\"Beijing\",\"Berlin\",\"Brussels\"],\n",
    "      \"area\": [8.516, 17.10, 3.286, 9.597],\n",
    "      \"population\": [200.4, 143.5, 1252, 1357] }\n",
    "#importing 'pandas' as 'pd'\n",
    "import pandas as pd\n",
    "pd_dict=pd.DataFrame(dict)\n",
    "print(pd_dict)\n"
   ]
  },
  {
   "cell_type": "code",
   "execution_count": 10,
   "metadata": {},
   "outputs": [
    {
     "name": "stdout",
     "output_type": "stream",
     "text": [
      "     country    capital    area  population\n",
      "IN     India  New Delhi   8.516       200.4\n",
      "CH     China    Beijing  17.100       143.5\n",
      "GER  Germany     Berlin   3.286      1252.0\n",
      "BE   Belgium   Brussels   9.597      1357.0\n"
     ]
    }
   ],
   "source": [
    "#changing index values\n",
    "pd_dict.index=[\"IN\",\"CH\",\"GER\",\"BE\"]\n",
    "print(pd_dict)"
   ]
  },
  {
   "cell_type": "code",
   "execution_count": 16,
   "metadata": {},
   "outputs": [
    {
     "data": {
      "text/html": [
       "<div>\n",
       "<style scoped>\n",
       "    .dataframe tbody tr th:only-of-type {\n",
       "        vertical-align: middle;\n",
       "    }\n",
       "\n",
       "    .dataframe tbody tr th {\n",
       "        vertical-align: top;\n",
       "    }\n",
       "\n",
       "    .dataframe thead th {\n",
       "        text-align: right;\n",
       "    }\n",
       "</style>\n",
       "<table border=\"1\" class=\"dataframe\">\n",
       "  <thead>\n",
       "    <tr style=\"text-align: right;\">\n",
       "      <th></th>\n",
       "      <th>id</th>\n",
       "      <th>lat</th>\n",
       "      <th>long</th>\n",
       "    </tr>\n",
       "  </thead>\n",
       "  <tbody>\n",
       "    <tr>\n",
       "      <th>0</th>\n",
       "      <td>2017_3170101413326007731</td>\n",
       "      <td>52.956923</td>\n",
       "      <td>10.603024</td>\n",
       "    </tr>\n",
       "    <tr>\n",
       "      <th>1</th>\n",
       "      <td>2017_3170101310112038751</td>\n",
       "      <td>52.379596</td>\n",
       "      <td>9.809079</td>\n",
       "    </tr>\n",
       "    <tr>\n",
       "      <th>2</th>\n",
       "      <td>2017_3170101310112038391</td>\n",
       "      <td>52.377291</td>\n",
       "      <td>10.038980</td>\n",
       "    </tr>\n",
       "    <tr>\n",
       "      <th>3</th>\n",
       "      <td>2017_3170101310112032251</td>\n",
       "      <td>52.399306</td>\n",
       "      <td>9.880214</td>\n",
       "    </tr>\n",
       "    <tr>\n",
       "      <th>4</th>\n",
       "      <td>2017_3170101213326033171</td>\n",
       "      <td>52.185437</td>\n",
       "      <td>10.086394</td>\n",
       "    </tr>\n",
       "    <tr>\n",
       "      <th>...</th>\n",
       "      <td>...</td>\n",
       "      <td>...</td>\n",
       "      <td>...</td>\n",
       "    </tr>\n",
       "    <tr>\n",
       "      <th>54329</th>\n",
       "      <td>2018_139338</td>\n",
       "      <td>52.276801</td>\n",
       "      <td>8.043732</td>\n",
       "    </tr>\n",
       "    <tr>\n",
       "      <th>54330</th>\n",
       "      <td>2018_139341</td>\n",
       "      <td>52.286450</td>\n",
       "      <td>8.042752</td>\n",
       "    </tr>\n",
       "    <tr>\n",
       "      <th>54331</th>\n",
       "      <td>2018_139342</td>\n",
       "      <td>53.231162</td>\n",
       "      <td>7.467708</td>\n",
       "    </tr>\n",
       "    <tr>\n",
       "      <th>54332</th>\n",
       "      <td>2018_139344</td>\n",
       "      <td>52.625553</td>\n",
       "      <td>10.084627</td>\n",
       "    </tr>\n",
       "    <tr>\n",
       "      <th>54333</th>\n",
       "      <td>2018_139347</td>\n",
       "      <td>52.839934</td>\n",
       "      <td>8.160514</td>\n",
       "    </tr>\n",
       "  </tbody>\n",
       "</table>\n",
       "<p>54334 rows × 3 columns</p>\n",
       "</div>"
      ],
      "text/plain": [
       "                             id        lat       long\n",
       "0      2017_3170101413326007731  52.956923  10.603024\n",
       "1      2017_3170101310112038751  52.379596   9.809079\n",
       "2      2017_3170101310112038391  52.377291  10.038980\n",
       "3      2017_3170101310112032251  52.399306   9.880214\n",
       "4      2017_3170101213326033171  52.185437  10.086394\n",
       "...                         ...        ...        ...\n",
       "54329               2018_139338  52.276801   8.043732\n",
       "54330               2018_139341  52.286450   8.042752\n",
       "54331               2018_139342  53.231162   7.467708\n",
       "54332               2018_139344  52.625553  10.084627\n",
       "54333               2018_139347  52.839934   8.160514\n",
       "\n",
       "[54334 rows x 3 columns]"
      ]
     },
     "execution_count": 16,
     "metadata": {},
     "output_type": "execute_result"
    }
   ],
   "source": [
    "#reading csv file\n",
    "import pandas as pd\n",
    "data=pd.read_csv(\"accidentlatlong_threeyear.csv\",header=0)\n",
    "data"
   ]
  },
  {
   "cell_type": "code",
   "execution_count": 20,
   "metadata": {},
   "outputs": [
    {
     "name": "stdout",
     "output_type": "stream",
     "text": [
      "0        2017_3170101413326007731\n",
      "1        2017_3170101310112038751\n",
      "2        2017_3170101310112038391\n",
      "3        2017_3170101310112032251\n",
      "4        2017_3170101213326033171\n",
      "                   ...           \n",
      "54329                 2018_139338\n",
      "54330                 2018_139341\n",
      "54331                 2018_139342\n",
      "54332                 2018_139344\n",
      "54333                 2018_139347\n",
      "Name: id, Length: 54334, dtype: object\n",
      "                             id\n",
      "0      2017_3170101413326007731\n",
      "1      2017_3170101310112038751\n",
      "2      2017_3170101310112038391\n",
      "3      2017_3170101310112032251\n",
      "4      2017_3170101213326033171\n",
      "...                         ...\n",
      "54329               2018_139338\n",
      "54330               2018_139341\n",
      "54331               2018_139342\n",
      "54332               2018_139344\n",
      "54333               2018_139347\n",
      "\n",
      "[54334 rows x 1 columns]\n",
      "                             id        lat       long\n",
      "0      2017_3170101413326007731  52.956923  10.603024\n",
      "1      2017_3170101310112038751  52.379596   9.809079\n",
      "2      2017_3170101310112038391  52.377291  10.038980\n",
      "3      2017_3170101310112032251  52.399306   9.880214\n",
      "4      2017_3170101213326033171  52.185437  10.086394\n",
      "...                         ...        ...        ...\n",
      "54329               2018_139338  52.276801   8.043732\n",
      "54330               2018_139341  52.286450   8.042752\n",
      "54331               2018_139342  53.231162   7.467708\n",
      "54332               2018_139344  52.625553  10.084627\n",
      "54333               2018_139347  52.839934   8.160514\n",
      "\n",
      "[54334 rows x 3 columns]\n"
     ]
    }
   ],
   "source": [
    "#different ways of printing the data\n",
    "\n",
    "# Print out id column as Pandas Series\n",
    "print(data['id'])          #or data['id']\n",
    "\n",
    "# Print out id column as Pandas DataFrame\n",
    "print(data[['id']])      #or data[['id']]\n",
    "\n",
    "# Print out DataFrame with  columns\n",
    "print(data[['id', 'lat','long']])      #or data[['id', 'lat','long']]   "
   ]
  },
  {
   "cell_type": "code",
   "execution_count": 21,
   "metadata": {},
   "outputs": [
    {
     "data": {
      "text/html": [
       "<div>\n",
       "<style scoped>\n",
       "    .dataframe tbody tr th:only-of-type {\n",
       "        vertical-align: middle;\n",
       "    }\n",
       "\n",
       "    .dataframe tbody tr th {\n",
       "        vertical-align: top;\n",
       "    }\n",
       "\n",
       "    .dataframe thead th {\n",
       "        text-align: right;\n",
       "    }\n",
       "</style>\n",
       "<table border=\"1\" class=\"dataframe\">\n",
       "  <thead>\n",
       "    <tr style=\"text-align: right;\">\n",
       "      <th></th>\n",
       "      <th>id</th>\n",
       "      <th>lat</th>\n",
       "      <th>long</th>\n",
       "    </tr>\n",
       "  </thead>\n",
       "  <tbody>\n",
       "    <tr>\n",
       "      <th>4</th>\n",
       "      <td>2017_3170101213326033171</td>\n",
       "      <td>52.185437</td>\n",
       "      <td>10.086394</td>\n",
       "    </tr>\n",
       "    <tr>\n",
       "      <th>5</th>\n",
       "      <td>2017_3170101213125181011</td>\n",
       "      <td>51.505409</td>\n",
       "      <td>9.779580</td>\n",
       "    </tr>\n",
       "    <tr>\n",
       "      <th>6</th>\n",
       "      <td>2017_3170101213101031161</td>\n",
       "      <td>51.586661</td>\n",
       "      <td>9.837325</td>\n",
       "    </tr>\n",
       "  </tbody>\n",
       "</table>\n",
       "</div>"
      ],
      "text/plain": [
       "                         id        lat       long\n",
       "4  2017_3170101213326033171  52.185437  10.086394\n",
       "5  2017_3170101213125181011  51.505409   9.779580\n",
       "6  2017_3170101213101031161  51.586661   9.837325"
      ]
     },
     "execution_count": 21,
     "metadata": {},
     "output_type": "execute_result"
    }
   ],
   "source": [
    "#accessing rows\n",
    "data[4:7]       # 4 included and 7 excluded"
   ]
  },
  {
   "cell_type": "code",
   "execution_count": null,
   "metadata": {},
   "outputs": [],
   "source": []
  }
 ],
 "metadata": {
  "kernelspec": {
   "display_name": "Python 3",
   "language": "python",
   "name": "python3"
  },
  "language_info": {
   "codemirror_mode": {
    "name": "ipython",
    "version": 3
   },
   "file_extension": ".py",
   "mimetype": "text/x-python",
   "name": "python",
   "nbconvert_exporter": "python",
   "pygments_lexer": "ipython3",
   "version": "3.7.6"
  }
 },
 "nbformat": 4,
 "nbformat_minor": 4
}
