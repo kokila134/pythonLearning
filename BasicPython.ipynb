{
 "cells": [
  {
   "cell_type": "code",
   "execution_count": 13,
   "metadata": {},
   "outputs": [
    {
     "name": "stdout",
     "output_type": "stream",
     "text": [
      "Hello World!!\n"
     ]
    }
   ],
   "source": [
    "#Hello World\n",
    "print(\"Hello World!!\")"
   ]
  },
  {
   "cell_type": "code",
   "execution_count": 5,
   "metadata": {},
   "outputs": [
    {
     "data": {
      "text/plain": [
       "2"
      ]
     },
     "execution_count": 5,
     "metadata": {},
     "output_type": "execute_result"
    }
   ],
   "source": [
    "#Variables\n",
    "a=2\n",
    "a"
   ]
  },
  {
   "cell_type": "code",
   "execution_count": 6,
   "metadata": {},
   "outputs": [
    {
     "data": {
      "text/plain": [
       "7.0"
      ]
     },
     "execution_count": 6,
     "metadata": {},
     "output_type": "execute_result"
    }
   ],
   "source": [
    "#float \n",
    "a=float(7)\n",
    "a"
   ]
  },
  {
   "cell_type": "code",
   "execution_count": 8,
   "metadata": {},
   "outputs": [
    {
     "data": {
      "text/plain": [
       "7"
      ]
     },
     "execution_count": 8,
     "metadata": {},
     "output_type": "execute_result"
    }
   ],
   "source": [
    "#integer\n",
    "b=int(7.0000001)\n",
    "b"
   ]
  },
  {
   "cell_type": "code",
   "execution_count": 21,
   "metadata": {},
   "outputs": [
    {
     "name": "stdout",
     "output_type": "stream",
     "text": [
      "hii friend's friend\n",
      "Pati dev\n"
     ]
    },
    {
     "data": {
      "text/plain": [
       "'ji'"
      ]
     },
     "execution_count": 21,
     "metadata": {},
     "output_type": "execute_result"
    }
   ],
   "source": [
    "#String\n",
    "hii=\"hii friend's friend\"\n",
    "bye=\"ji\"\n",
    "name=\"Hi all\"\n",
    "name  #it will not be printed...only last variable will be printed\n",
    "print(hii)\n",
    "print(name)\n",
    "bye"
   ]
  },
  {
   "cell_type": "code",
   "execution_count": 28,
   "metadata": {},
   "outputs": [
    {
     "name": "stdout",
     "output_type": "stream",
     "text": [
      "3.0\n",
      "HelloWorld\n"
     ]
    }
   ],
   "source": [
    "#Concatenation\n",
    "hello=\"Hello\"\n",
    "world=\"World\"\n",
    "one=1\n",
    "two=2\n",
    "three=one+two\n",
    "helloworld=hello+world\n",
    "#helloworld3=helloworld+three will not work coz concatenation works on the same type only\n",
    "print(three)\n",
    "print(helloworld)\n",
    "\n",
    "\n"
   ]
  },
  {
   "cell_type": "code",
   "execution_count": 29,
   "metadata": {},
   "outputs": [
    {
     "name": "stdout",
     "output_type": "stream",
     "text": [
      "1\n",
      "2\n",
      "3\n"
     ]
    }
   ],
   "source": [
    "#assignment\n",
    "a,b,c=1,2,3  #we can assign multiple values simultaneously\n",
    "print(a)\n",
    "print(b)\n",
    "print(c)"
   ]
  },
  {
   "cell_type": "code",
   "execution_count": 33,
   "metadata": {},
   "outputs": [
    {
     "name": "stdout",
     "output_type": "stream",
     "text": [
      "String is: hello\n",
      "Integer is: 3\n",
      "Floating point is: 7.000000\n"
     ]
    }
   ],
   "source": [
    "#if statement and isinstance\n",
    "myint=3\n",
    "myfloat=7.0\n",
    "mystr='hello'\n",
    "if isinstance(mystr, str) and mystr=='hello':  #or simply mystr=='hello'\n",
    "    print(\"String is: %s\" % mystr)\n",
    "if isinstance(myint, int) and myint==3:\n",
    "    print(\"Integer is: %d\" % myint)\n",
    "if isinstance(myfloat, float) and myfloat==7.0:\n",
    "    print(\"Floating point is: %f\" % myfloat)"
   ]
  },
  {
   "cell_type": "code",
   "execution_count": 38,
   "metadata": {},
   "outputs": [
    {
     "name": "stdout",
     "output_type": "stream",
     "text": [
      "1\n",
      "2\n",
      "three\n",
      "1\n",
      "2\n",
      "three\n"
     ]
    },
    {
     "ename": "IndexError",
     "evalue": "list index out of range",
     "output_type": "error",
     "traceback": [
      "\u001b[1;31m---------------------------------------------------------------------------\u001b[0m",
      "\u001b[1;31mIndexError\u001b[0m                                Traceback (most recent call last)",
      "\u001b[1;32m<ipython-input-38-1029fd6c46ea>\u001b[0m in \u001b[0;36m<module>\u001b[1;34m\u001b[0m\n\u001b[0;32m     11\u001b[0m     \u001b[0mprint\u001b[0m\u001b[1;33m(\u001b[0m\u001b[0mx\u001b[0m\u001b[1;33m)\u001b[0m\u001b[1;33m\u001b[0m\u001b[1;33m\u001b[0m\u001b[0m\n\u001b[0;32m     12\u001b[0m \u001b[1;33m\u001b[0m\u001b[0m\n\u001b[1;32m---> 13\u001b[1;33m \u001b[0mprint\u001b[0m\u001b[1;33m(\u001b[0m \u001b[0mmylist\u001b[0m\u001b[1;33m[\u001b[0m\u001b[1;36m10\u001b[0m\u001b[1;33m]\u001b[0m\u001b[1;33m)\u001b[0m \u001b[1;31m#generates an out of range exception\u001b[0m\u001b[1;33m\u001b[0m\u001b[1;33m\u001b[0m\u001b[0m\n\u001b[0m",
      "\u001b[1;31mIndexError\u001b[0m: list index out of range"
     ]
    }
   ],
   "source": [
    "#lists\n",
    "mylist=[]\n",
    "mylist.append(1)\n",
    "mylist.append(2)\n",
    "mylist.append('three')\n",
    "print(mylist[0])\n",
    "print(mylist[1])\n",
    "print(mylist[2])\n",
    "\n",
    "for x in mylist:\n",
    "    print(x)\n",
    "\n",
    "print( mylist[10]) #generates an out of range exception"
   ]
  },
  {
   "cell_type": "code",
   "execution_count": 43,
   "metadata": {},
   "outputs": [
    {
     "name": "stdout",
     "output_type": "stream",
     "text": [
      "Second name in the list of names is: Beta\n",
      "1\n",
      "2\n",
      "3\n",
      "Hello\n",
      "World\n",
      "Alpha\n",
      "Beta\n",
      "Gamma\n",
      "Another way of printing is:\n",
      "[1, 2, 3]\n",
      "['Hello', 'World']\n",
      "['Alpha', 'Beta', 'Gamma']\n"
     ]
    }
   ],
   "source": [
    "#List example\n",
    "numbers=[]\n",
    "strings=[]\n",
    "names=[\"Alpha\",\"Beta\",\"Gamma\"]\n",
    "numbers.append(1)\n",
    "numbers.append(2)\n",
    "numbers.append(3)\n",
    "strings.append(\"Hello\")\n",
    "strings.append(\"World\")\n",
    "second_name=names[1]\n",
    "print(\"Second name in the list of names is: %s\" % second_name)\n",
    "for x in numbers:\n",
    "    print(x)\n",
    "for x in strings:\n",
    "    print(x)\n",
    "for x in names:\n",
    "    print(x)\n",
    "    \n",
    "print(\"Another way of printing is:\")\n",
    "print(numbers)\n",
    "print(strings)\n",
    "print(names)"
   ]
  },
  {
   "cell_type": "code",
   "execution_count": 48,
   "metadata": {},
   "outputs": [
    {
     "name": "stdout",
     "output_type": "stream",
     "text": [
      "9.0\n",
      "2\n"
     ]
    }
   ],
   "source": [
    "#Arithmetic Operations\n",
    "a=3+2*9/3.0\n",
    "print(a)\n",
    "modulo=11%3\n",
    "print(modulo)"
   ]
  },
  {
   "cell_type": "code",
   "execution_count": 50,
   "metadata": {},
   "outputs": [
    {
     "name": "stdout",
     "output_type": "stream",
     "text": [
      "4\n",
      "8\n"
     ]
    }
   ],
   "source": [
    "#Squares and cubes\n",
    "squared=2**     #square of 2\n",
    "cubed=2**3      #cube of 2\n",
    "print(squared)\n",
    "print(cubed)\n"
   ]
  },
  {
   "cell_type": "code",
   "execution_count": 53,
   "metadata": {},
   "outputs": [
    {
     "name": "stdout",
     "output_type": "stream",
     "text": [
      "hello world\n",
      "HELLO WORLD\n"
     ]
    }
   ],
   "source": [
    "#operators with strings\n",
    "hello= \"hello\"\n",
    "world=\"world\"\n",
    "helloworld1=hello+\" \"+world\n",
    "helloworld2=\"HELLO\"+\" \"+\"WORLD\"\n",
    "print(helloworld1)\n",
    "print(helloworld2)"
   ]
  },
  {
   "cell_type": "code",
   "execution_count": 54,
   "metadata": {},
   "outputs": [
    {
     "data": {
      "text/plain": [
       "'HelloHelloHelloHelloHelloHelloHelloHelloHelloHello'"
      ]
     },
     "execution_count": 54,
     "metadata": {},
     "output_type": "execute_result"
    }
   ],
   "source": [
    "#Repeating a string\n",
    "string=\"Hello\"\n",
    "string*10"
   ]
  },
  {
   "cell_type": "code",
   "execution_count": 55,
   "metadata": {},
   "outputs": [
    {
     "name": "stdout",
     "output_type": "stream",
     "text": [
      "[1, 3, 5, 7, 9, 2, 4, 6, 8, 10]\n"
     ]
    }
   ],
   "source": [
    "#Joining Lists\n",
    "odd=[1,3,5,7,9]\n",
    "even=[2,4,6,8,10]\n",
    "all_no=odd+even\n",
    "print(all_no)"
   ]
  },
  {
   "cell_type": "code",
   "execution_count": 59,
   "metadata": {},
   "outputs": [
    {
     "name": "stdout",
     "output_type": "stream",
     "text": [
      "[1, 2, 3]\n",
      "[1, 2, 3, 1, 2, 3, 1, 2, 3]\n",
      "[1, 2, 3, 1, 2, 3, 1, 2, 3]\n"
     ]
    }
   ],
   "source": [
    "#Repeating a list\n",
    "a=[1,2,3]\n",
    "b=a*3\n",
    "print(a)\n",
    "print(b)\n",
    "print([1,2,3]*3)"
   ]
  },
  {
   "cell_type": "code",
   "execution_count": 63,
   "metadata": {},
   "outputs": [
    {
     "name": "stdout",
     "output_type": "stream",
     "text": [
      "x_list contains 10 objects\n",
      "y_list contains 10 objects\n",
      "big_list contains 20 objects\n",
      "Almost there.....\n",
      "Great Job\n"
     ]
    }
   ],
   "source": [
    "#excercise lists\n",
    "x=object()\n",
    "y=object()\n",
    "x_list=[x]*10\n",
    "y_list=[y]*10\n",
    "big_list=x_list+y_list\n",
    "print(\"x_list contains %d objects\" % len(x_list))\n",
    "print(\"y_list contains %d objects\" % len(y_list))\n",
    "print(\"big_list contains %d objects\" % len(big_list))\n",
    "if x_list.count(x)==10 and y_list.count(y)==10:\n",
    "    print(\"Almost there.....\")\n",
    "if big_list.count(x)==10 and big_list.count(y)==10:\n",
    "    print(\"Great Job\")"
   ]
  },
  {
   "cell_type": "code",
   "execution_count": 66,
   "metadata": {},
   "outputs": [
    {
     "name": "stdout",
     "output_type": "stream",
     "text": [
      "Hello, Kokila\n"
     ]
    }
   ],
   "source": [
    "#Argumenting and string formatting\n",
    "name=\"Kokila\"\n",
    "print(\"Hello, %s\" %name)\n"
   ]
  },
  {
   "cell_type": "code",
   "execution_count": 77,
   "metadata": {},
   "outputs": [
    {
     "name": "stdout",
     "output_type": "stream",
     "text": [
      "Your name is Kokila Jamwal. You are 25 years old.\n"
     ]
    }
   ],
   "source": [
    "#Multiple arguments\n",
    "f_name=\"Kokila\"\n",
    "l_name=\"Jamwal\"\n",
    "age=25\n",
    "print(\"Your name is %s %s. You are %d years old.\" %(f_name, l_name, age))"
   ]
  },
  {
   "cell_type": "code",
   "execution_count": 78,
   "metadata": {},
   "outputs": [
    {
     "name": "stdout",
     "output_type": "stream",
     "text": [
      "List is [1, 2, 3]\n"
     ]
    }
   ],
   "source": [
    "#Any object which is not a string can be formatted using the %s operator \n",
    "a=[1,2,3]\n",
    "print(\"List is %s\" %a)\n",
    "\n",
    "# %s - String (or any object with a string representation, like numbers)\n",
    "\n",
    "# %d - Integers\n",
    "\n",
    "# %f - Floating point numbers\n",
    "\n",
    "# %.<number of digits>f - Floating point numbers with a fixed amount of digits to the right of the dot.\n",
    "\n",
    "# %x/%X - Integers in hex representation (lowercase/uppercase)"
   ]
  },
  {
   "cell_type": "code",
   "execution_count": 82,
   "metadata": {},
   "outputs": [
    {
     "name": "stdout",
     "output_type": "stream",
     "text": [
      "Hello Abhi Singh. Your balance is 55.87.\n"
     ]
    }
   ],
   "source": [
    "#format specifier excercise\n",
    "data=(\"Abhi\",\"Singh\",55.87)\n",
    "format_string=\"Hello %s %s. Your balance is %.2f.\" \n",
    "print(format_string  % data)"
   ]
  },
  {
   "cell_type": "code",
   "execution_count": 102,
   "metadata": {},
   "outputs": [
    {
     "name": "stdout",
     "output_type": "stream",
     "text": [
      "Single quotes are written as ''\n",
      "Length of Single quotes are written as '' is 31\n",
      "Index of '' are: 29 \n",
      "Number of t[s] in the string is: 3 \n",
      "quotes are written as ''\n",
      "qoe r rte s'\n",
      "'' sa nettirw era setouq elgniS\n",
      "single quotes are written as ''\n",
      "SINGLE QUOTES ARE WRITTEN AS ''\n",
      "False\n",
      "True\n",
      "True\n",
      "False\n",
      "['Single', 'quotes', 'are', 'written', 'as', \"''\"]\n",
      "['Single quotes ', \" written as ''\"]\n"
     ]
    }
   ],
   "source": [
    "#basic string operations\n",
    "astring=\"Single quotes are written as ''\"\n",
    "print(astring)\n",
    "print(\"Length of %s is %d\" %(astring,len(astring)))\n",
    "print(\"Index of '' are: %d \" %(astring.index(\"'\")))       #starting index is 0\n",
    "print(\"Number of t[s] in the string is: %d \" %astring.count(\"t\"))\n",
    "print(astring[7:31])\n",
    "print(astring[7:31:2])        #[start:stop:step]\n",
    "print(astring[::-1])         #reverse a string\n",
    "print(astring.lower())\n",
    "print(astring.upper())\n",
    "print(astring.startswith(\"single\"))     #False coz'S'of single is capital\n",
    "print(astring.startswith(\"Single\"))     #True coz'S'of single is capital\n",
    "print(astring.endswith(\"as ''\"))        #True\n",
    "print(astring.endswith(\"as\"))           #False\n",
    "print(astring.split(\" \"))\n",
    "print(astring.split(\"are\"))             #splits the atring with repect to'are'"
   ]
  },
  {
   "cell_type": "code",
   "execution_count": 104,
   "metadata": {},
   "outputs": [
    {
     "name": "stdout",
     "output_type": "stream",
     "text": [
      "False\n",
      "True\n",
      "True\n",
      "True\n",
      "True\n"
     ]
    }
   ],
   "source": [
    "#conditions\n",
    "x=1       #assignment\n",
    "print(x==2)       #comparison\n",
    "print(x==1)\n",
    "print(x>-1)\n",
    "print(x<3)\n",
    "print(x!=5)"
   ]
  },
  {
   "cell_type": "code",
   "execution_count": 108,
   "metadata": {},
   "outputs": [
    {
     "name": "stdout",
     "output_type": "stream",
     "text": [
      "Your name is Abhi and your age is 10\n",
      "Your name is Abhi or your age is 10\n",
      "Your name is Ravi or your age is 10\n"
     ]
    }
   ],
   "source": [
    "#Boolean operations\n",
    "name=\"Abhi\"\n",
    "age=10\n",
    "if name==\"Abhi\" and age==10:\n",
    "    print(\"Your name is Abhi and your age is 10\")\n",
    "if name==\"Abhi\" and age==20:\n",
    "    print(\"this statement is False\")\n",
    "if name==\"Abhi\" or age==20:\n",
    "    print(\"Your name is Abhi or your age is 10\")\n",
    "if name==\"Ravi\" or age==10:\n",
    "    print(\"Your name is Ravi or your age is 10\")"
   ]
  },
  {
   "cell_type": "code",
   "execution_count": 112,
   "metadata": {},
   "outputs": [
    {
     "name": "stdout",
     "output_type": "stream",
     "text": [
      "a is 1\n"
     ]
    }
   ],
   "source": [
    "a=1\n",
    "b=2\n",
    "if a==2:\n",
    "    print(\"a is 2\")        #An empty string: \"\" 2. An empty list: [] 3. The number zero: 0 4. The false boolean variable: False\n",
    "elif a==1:\n",
    "    print(\"a is 1\")\n",
    "    pass            #pass statement does nothing\n",
    "else:\n",
    "    pass"
   ]
  },
  {
   "cell_type": "code",
   "execution_count": 113,
   "metadata": {},
   "outputs": [
    {
     "name": "stdout",
     "output_type": "stream",
     "text": [
      "x and y are equal\n",
      "x and y are not same\n"
     ]
    }
   ],
   "source": [
    "x=[1,2,3]\n",
    "y=[1,2,3]\n",
    "if x==y:\n",
    "    print(\"x and y are equal\")\n",
    "if x is y:               #\"is\" operator does not match the values of the variables, but the instances themselves\n",
    "    print(\"x and are same\")\n",
    "else:\n",
    "    print(\"x and y are not same\")"
   ]
  },
  {
   "cell_type": "code",
   "execution_count": 116,
   "metadata": {},
   "outputs": [
    {
     "name": "stdout",
     "output_type": "stream",
     "text": [
      "True\n",
      "True\n",
      "False\n"
     ]
    }
   ],
   "source": [
    "#not operator\n",
    "print(not False)\n",
    "print(not 0)\n",
    "print((not False)==False)"
   ]
  },
  {
   "cell_type": "code",
   "execution_count": 117,
   "metadata": {},
   "outputs": [
    {
     "name": "stdout",
     "output_type": "stream",
     "text": [
      "2\n",
      "3\n",
      "5\n",
      "7\n"
     ]
    }
   ],
   "source": [
    "#Loops\n",
    "primes=[2,3,5,7]\n",
    "for prime in primes:\n",
    "    print (prime)\n",
    "\n"
   ]
  },
  {
   "cell_type": "code",
   "execution_count": 120,
   "metadata": {},
   "outputs": [
    {
     "name": "stdout",
     "output_type": "stream",
     "text": [
      "0\n",
      "1\n",
      "2\n",
      "3\n",
      "4\n",
      "5\n",
      "6\n",
      "7\n",
      "8\n",
      "9\n",
      "3\n",
      "4\n",
      "5\n",
      "6\n",
      "7\n",
      "8\n",
      "9\n",
      "3\n",
      "5\n",
      "7\n",
      "9\n"
     ]
    }
   ],
   "source": [
    "#Range\n",
    "for x in range(10):\n",
    "    print(x)    #prints 0-9\n",
    "for x in range(3,10):\n",
    "    print(x)    #prints 3-9\n",
    "for x in range(3,10,2):\n",
    "    print(x)"
   ]
  },
  {
   "cell_type": "code",
   "execution_count": 126,
   "metadata": {},
   "outputs": [
    {
     "name": "stdout",
     "output_type": "stream",
     "text": [
      "1\n",
      "2\n",
      "1\n",
      "3\n",
      "5\n",
      "7\n",
      "9\n"
     ]
    }
   ],
   "source": [
    "#while\n",
    "y=1\n",
    "while y<=5:\n",
    "    print(y)\n",
    "    y+=1    #y=y+1\n",
    "    if y>2:\n",
    "        break\n",
    "\n",
    "    \n",
    "for x in range(10):\n",
    "    if x%2==0:\n",
    "        continue\n",
    "    print(x)"
   ]
  },
  {
   "cell_type": "code",
   "execution_count": 133,
   "metadata": {},
   "outputs": [
    {
     "name": "stdout",
     "output_type": "stream",
     "text": [
      "Hello!! how are you\n",
      "Hello Kokila, Wish you a very Happy Birthday\n"
     ]
    },
    {
     "data": {
      "text/plain": [
       "6"
      ]
     },
     "execution_count": 133,
     "metadata": {},
     "output_type": "execute_result"
    }
   ],
   "source": [
    "#Functions\n",
    "def my_fun1():\n",
    "    print(\"Hello!! how are you\")\n",
    "def my_fun2(name,greeting):\n",
    "    print(\"Hello %s, Wish you a very %s\" %(name,greeting))\n",
    "def sum(a,b):\n",
    "    return a+b\n",
    "    \n",
    "my_fun1()\n",
    "my_fun2(\"Kokila\",\"Happy Birthday\")\n",
    "sum(2,4)\n"
   ]
  },
  {
   "cell_type": "code",
   "execution_count": 134,
   "metadata": {},
   "outputs": [
    {
     "name": "stdout",
     "output_type": "stream",
     "text": [
      "Fer is a red convertible worth $60000.00.\n",
      "Jump is a blue van worth $10000.00.\n"
     ]
    }
   ],
   "source": [
    "#objects\n",
    "# define the Vehicle class\n",
    "class Vehicle:\n",
    "    name = \"\"\n",
    "    kind = \"car\"\n",
    "    color = \"\"\n",
    "    value = 100.00\n",
    "    def description(self):\n",
    "        desc_str = \"%s is a %s %s worth $%.2f.\" % (self.name, self.color, self.kind, self.value)\n",
    "        return desc_str\n",
    "\n",
    "# your code goes here\n",
    "car1 = Vehicle()\n",
    "car1.name = \"Fer\"\n",
    "car1.color = \"red\"\n",
    "car1.kind = \"convertible\"\n",
    "car1.value = 60000.00\n",
    "\n",
    "car2 = Vehicle()\n",
    "car2.name = \"Jump\"\n",
    "car2.color = \"blue\"\n",
    "car2.kind = \"van\"\n",
    "car2.value = 10000.00\n",
    "\n",
    "# test code\n",
    "print(car1.description())\n",
    "print(car2.description())"
   ]
  },
  {
   "cell_type": "code",
   "execution_count": 147,
   "metadata": {},
   "outputs": [
    {
     "name": "stdout",
     "output_type": "stream",
     "text": [
      "{'A': 100, 'B': 200, 'C': 300, 'D': 400}\n",
      "{'John': 938477566, 'Jack': 938377264, 'Jill': 947662781}\n",
      "Phone no. for A is 100\n",
      "Phone no. for B is 200\n",
      "Phone no. for C is 300\n",
      "Phone no. for D is 400\n",
      "Phone no. for John is 938477566\n",
      "Phone no. for Jack is 938377264\n",
      "Phone no. for Jill is 947662781\n",
      "{'John': 938477566, 'Jack': 938377264, 'Jill': 947662781}\n",
      "{'John': 938477566, 'Jack': 938377264}\n"
     ]
    }
   ],
   "source": [
    "#dictionary\n",
    "phonebook1={}\n",
    "phonebook1[\"A\"]=100\n",
    "phonebook1[\"B\"]=200\n",
    "phonebook1[\"C\"]=300\n",
    "phonebook1[\"D\"]=400\n",
    "print(phonebook1)\n",
    "\n",
    "#another initialization\n",
    "phonebook2 = {\n",
    "    \"John\" : 938477566,\n",
    "    \"Jack\" : 938377264,\n",
    "    \"Jill\" : 947662781\n",
    "}\n",
    "print(phonebook2)\n",
    "\n",
    "for a,b in phonebook1.items():\n",
    "    print(\"Phone no. for %s is %s\" %(a,b))\n",
    "for a,b in phonebook2.items():\n",
    "    print(\"Phone no. for %s is %s\" %(a,b))\n",
    "del phonebook1[\"D\"]\n",
    "print(phonebook)\n",
    "phonebook2.pop(\"Jill\")\n",
    "print(phonebook2)\n"
   ]
  },
  {
   "cell_type": "code",
   "execution_count": null,
   "metadata": {},
   "outputs": [],
   "source": [
    "#Modules\n",
    "# game.py\n",
    "# import the draw module\n",
    "import draw\n",
    "\n",
    "def play_game():\n",
    "    ...\n",
    "\n",
    "def main():\n",
    "    result = play_game()\n",
    "    draw.draw_game(result)\n",
    "\n",
    "# this means that if this script is executed, then \n",
    "# main() will be executed\n",
    "if __name__ == '__main__':\n",
    "    main()"
   ]
  }
 ],
 "metadata": {
  "kernelspec": {
   "display_name": "Python 3",
   "language": "python",
   "name": "python3"
  },
  "language_info": {
   "codemirror_mode": {
    "name": "ipython",
    "version": 3
   },
   "file_extension": ".py",
   "mimetype": "text/x-python",
   "name": "python",
   "nbconvert_exporter": "python",
   "pygments_lexer": "ipython3",
   "version": "3.6.8"
  }
 },
 "nbformat": 4,
 "nbformat_minor": 4
}
