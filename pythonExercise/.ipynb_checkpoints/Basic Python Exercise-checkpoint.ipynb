{
 "cells": [
  {
   "cell_type": "markdown",
   "metadata": {},
   "source": [
    "### 1. Write a Python program to print the following string in a specific format (see the output).\n",
    "Sample String : \"Twinkle, twinkle, little star, How I wonder what you are! Up above the world so high, Like a diamond in the sky. Twinkle, twinkle, little star, How I wonder what you are\" Output :\n",
    "\n",
    "Twinkle, twinkle, little star,<br> &nbsp;&nbsp;&nbsp;\n",
    "\tHow I wonder what you are! <br> &nbsp;&nbsp;&nbsp;&nbsp;&nbsp;&nbsp;\n",
    "\t\tUp above the world so high,\t\n",
    "\t\tLike a diamond in the sky.<br> \n",
    "Twinkle, twinkle, little star, <br> &nbsp;&nbsp;&nbsp;\n",
    "\tHow I wonder what you are\n"
   ]
  },
  {
   "cell_type": "code",
   "execution_count": 160,
   "metadata": {},
   "outputs": [
    {
     "name": "stdout",
     "output_type": "stream",
     "text": [
      "Twinkle, twinkle, little star, \n",
      "\tHow I wonder what you are! \n",
      "\t\tUp above the world so high, \n",
      "Like a diamond in the sky. \n",
      "Twinkle, twinkle, little star, \n",
      "\tHow I wonder what you are\n"
     ]
    }
   ],
   "source": [
    "print(\"Twinkle, twinkle, little star, \\n\\tHow I wonder what you are! \\n\\t\\tUp above the world so high, \\nLike a diamond in the sky. \\nTwinkle, twinkle, little star, \\n\\tHow I wonder what you are\")"
   ]
  },
  {
   "cell_type": "markdown",
   "metadata": {},
   "source": [
    "### 2. Write a Python program to get the Python version you are using."
   ]
  },
  {
   "cell_type": "code",
   "execution_count": 161,
   "metadata": {},
   "outputs": [
    {
     "name": "stdout",
     "output_type": "stream",
     "text": [
      "3.6.8 |Anaconda custom (64-bit)| (default, Dec 30 2018, 01:22:34) \n",
      "[GCC 7.3.0]\n"
     ]
    }
   ],
   "source": [
    "import sys\n",
    "print(sys.version)"
   ]
  },
  {
   "cell_type": "markdown",
   "metadata": {},
   "source": [
    "### 3. Write a Python program to display the current date and time.\n",
    "Sample Output : \n",
    "Current date and time : \n",
    "2014-07-05 14:34:14"
   ]
  },
  {
   "cell_type": "code",
   "execution_count": 162,
   "metadata": {},
   "outputs": [
    {
     "name": "stdout",
     "output_type": "stream",
     "text": [
      "Current date and time : \n",
      "2020-06-28 21:15:34\n"
     ]
    }
   ],
   "source": [
    "from datetime import datetime\n",
    "print(\"Current date and time : \")\n",
    "current=datetime.today()                     #or datetime.now()\n",
    "print(current.strftime(\"%Y-%m-%d %H:%M:%S\"))"
   ]
  },
  {
   "cell_type": "markdown",
   "metadata": {},
   "source": [
    "### 4. Write a Python program which accepts the radius of a circle from the user and compute the area. \n",
    "Sample Output : \n",
    "r = 1.1\n",
    "Area = 3.8013271108436504"
   ]
  },
  {
   "cell_type": "code",
   "execution_count": 164,
   "metadata": {},
   "outputs": [
    {
     "name": "stdout",
     "output_type": "stream",
     "text": [
      "Enter radius of the circle:6\n",
      "r= 6.0\n",
      "Area= 37.69911184307752\n"
     ]
    }
   ],
   "source": [
    "from math import pi\n",
    "r=float(input(\"Enter radius of the circle:\"))\n",
    "print(\"r=\",r)\n",
    "print(\"Area=\",2*pi*r)"
   ]
  },
  {
   "cell_type": "markdown",
   "metadata": {},
   "source": [
    "### 5. Write a Python program which accepts the user's first and last name and print them in reverse order with a space between them."
   ]
  },
  {
   "cell_type": "code",
   "execution_count": 165,
   "metadata": {},
   "outputs": [
    {
     "name": "stdout",
     "output_type": "stream",
     "text": [
      "Enter your first name:kokila\n",
      "Enter your last name:jamwal\n",
      "Hello, jamwal kokila\n",
      "Reverse of the name is: alikok lawmaj\n"
     ]
    }
   ],
   "source": [
    "f=input(\"Enter your first name:\")\n",
    "l=input(\"Enter your last name:\")\n",
    "print(\"Hello, \"+l+\" \"+f)\n",
    "print(\"Reverse of the name is: \"+f[::-1]+\" \"+l[::-1])"
   ]
  },
  {
   "cell_type": "markdown",
   "metadata": {},
   "source": [
    "### 6. Write a Python program which accepts a sequence of comma-separated numbers from user and generate a list and a tuple with those numbers. \n",
    "Sample data : 3, 5, 7, 23\n",
    "Output : \n",
    "List : ['3', ' 5', ' 7', ' 23'] \n",
    "Tuple : ('3', ' 5', ' 7', ' 23')"
   ]
  },
  {
   "cell_type": "code",
   "execution_count": 166,
   "metadata": {},
   "outputs": [
    {
     "name": "stdout",
     "output_type": "stream",
     "text": [
      "Enter a sequence of comma-seperated numbers: 3,5,7,8,9\n",
      "List:  ['3', '5', '7', '8', '9']\n",
      "Tuple:  ('3', '5', '7', '8', '9')\n"
     ]
    }
   ],
   "source": [
    "data=input('Enter a sequence of comma-seperated numbers: ')\n",
    "l=data.split(',')\n",
    "print('List: ',l)\n",
    "t=tuple(l)\n",
    "print('Tuple: ',t)"
   ]
  },
  {
   "cell_type": "markdown",
   "metadata": {},
   "source": [
    "### 7. Write a Python program to accept a filename from the user and print the extension of that. \n",
    "Sample filename : abc.java \n",
    "Output : java"
   ]
  },
  {
   "cell_type": "code",
   "execution_count": 167,
   "metadata": {},
   "outputs": [
    {
     "name": "stdout",
     "output_type": "stream",
     "text": [
      "Enter a Filename with its extension: abc.py\n",
      "File name is:  abc.py\n",
      "File extension is: py\n"
     ]
    }
   ],
   "source": [
    "file=input('Enter a Filename with its extension: ')\n",
    "print('File name is: ',file)\n",
    "ext=file.split('.')\n",
    "print('File extension is: '+ext[-1])"
   ]
  },
  {
   "cell_type": "markdown",
   "metadata": {},
   "source": [
    "###  8. Write a Python program to display the first and last colors from the following list.\n",
    "color_list = [\"Red\",\"Green\",\"White\" ,\"Black\"]"
   ]
  },
  {
   "cell_type": "code",
   "execution_count": 168,
   "metadata": {},
   "outputs": [
    {
     "name": "stdout",
     "output_type": "stream",
     "text": [
      "First color in the list is:  Red\n",
      "Last color in the list is:  Black\n"
     ]
    }
   ],
   "source": [
    "color_list=['Red','Green','White','Black']\n",
    "print('First color in the list is: ',color_list[0])\n",
    "print('Last color in the list is: ',color_list[-1])"
   ]
  },
  {
   "cell_type": "markdown",
   "metadata": {},
   "source": [
    "### 9. Write a Python program to display the examination schedule. (extract the date from exam_st_date). \n",
    "exam_st_date = (11, 12, 2014)\n",
    "Sample Output : The examination will start from : 11 / 12 / 2014"
   ]
  },
  {
   "cell_type": "code",
   "execution_count": 169,
   "metadata": {},
   "outputs": [
    {
     "name": "stdout",
     "output_type": "stream",
     "text": [
      "The examination will start from :11/12/2014\n"
     ]
    }
   ],
   "source": [
    "exam_st_date = (11, 12, 2014)\n",
    "print('The examination will start from :%d/%d/%d'%exam_st_date)"
   ]
  },
  {
   "cell_type": "markdown",
   "metadata": {},
   "source": [
    " ### 10. Write a Python program that accepts an integer (n) and computes the value of n+nn+nnn.\n",
    "Sample value of n is 5 \n",
    "Expected Result : 615"
   ]
  },
  {
   "cell_type": "code",
   "execution_count": 170,
   "metadata": {},
   "outputs": [
    {
     "name": "stdout",
     "output_type": "stream",
     "text": [
      "Enter an integer:5\n",
      "Entered value:  5\n",
      "n+nn+nnn: 615\n"
     ]
    }
   ],
   "source": [
    "n=int(input('Enter an integer:'))\n",
    "print('Entered value: ',n)\n",
    "nn=int('%s%s'%(n,n))  \n",
    "nnn=int('%s%s%s'%(n,n,n))  \n",
    "print('n+nn+nnn: %d'%(n+nn+nnn)) "
   ]
  },
  {
   "cell_type": "markdown",
   "metadata": {},
   "source": [
    "### 11. Write a Python program to print the documents (syntax, description etc.) of Python built-in function(s). \n",
    "Sample function : abs()\n",
    "Expected Result : \n",
    "abs(number) -> number\n",
    "Return the absolute value of the argument."
   ]
  },
  {
   "cell_type": "code",
   "execution_count": 171,
   "metadata": {},
   "outputs": [
    {
     "name": "stdout",
     "output_type": "stream",
     "text": [
      "Return the absolute value of the argument.\n"
     ]
    }
   ],
   "source": [
    "print(abs.__doc__)"
   ]
  },
  {
   "cell_type": "markdown",
   "metadata": {},
   "source": [
    "### 12. Write a Python program to print the calendar of a given month and year.\n",
    "Note : Use 'calendar' module. "
   ]
  },
  {
   "cell_type": "code",
   "execution_count": 172,
   "metadata": {},
   "outputs": [
    {
     "name": "stdout",
     "output_type": "stream",
     "text": [
      "Enter month: 6\n",
      "Enter year:1990\n",
      "     June 1990\n",
      "Mo Tu We Th Fr Sa Su\n",
      "             1  2  3\n",
      " 4  5  6  7  8  9 10\n",
      "11 12 13 14 15 16 17\n",
      "18 19 20 21 22 23 24\n",
      "25 26 27 28 29 30\n",
      "\n"
     ]
    }
   ],
   "source": [
    "import calendar\n",
    "month=int(input('Enter month: '))\n",
    "year=int(input('Enter year:'))\n",
    "print(calendar.month(year, month))"
   ]
  },
  {
   "cell_type": "markdown",
   "metadata": {},
   "source": [
    "### 13. Write a Python program to print the following here document. \n",
    "Sample string <br>a string that you \"don't\" have to escape<br>This<br>is a ....... multi-line<br>heredoc string --------> example"
   ]
  },
  {
   "cell_type": "code",
   "execution_count": 173,
   "metadata": {},
   "outputs": [
    {
     "name": "stdout",
     "output_type": "stream",
     "text": [
      "a string that you \"don't\" have to escape \n",
      "This \n",
      "is a ....... multi-line \n",
      "heredoc string -------> example \n"
     ]
    }
   ],
   "source": [
    "print('a string that you \\\"don\\'t\\\" have to escape \\nThis \\nis a ....... multi-line \\nheredoc string -------> example ')"
   ]
  },
  {
   "cell_type": "markdown",
   "metadata": {},
   "source": [
    "### 14. Write a Python program to calculate number of days between two dates.\n",
    "Sample dates : (2014, 7, 2), (2014, 7, 11)\n",
    "Expected output : 9 days "
   ]
  },
  {
   "cell_type": "code",
   "execution_count": 174,
   "metadata": {},
   "outputs": [
    {
     "name": "stdout",
     "output_type": "stream",
     "text": [
      "374\n"
     ]
    }
   ],
   "source": [
    "from datetime import date\n",
    "d1=date(2014,7,2)\n",
    "d2=date(2015,7,11)\n",
    "print((d2-d1).days)\n"
   ]
  },
  {
   "cell_type": "markdown",
   "metadata": {},
   "source": [
    "### 15. Write a Python program to get the volume of a sphere with radius 6."
   ]
  },
  {
   "cell_type": "code",
   "execution_count": 175,
   "metadata": {},
   "outputs": [
    {
     "name": "stdout",
     "output_type": "stream",
     "text": [
      "Volume of the sphere with radius 6 is: 904.778684\n"
     ]
    }
   ],
   "source": [
    "from math import pi\n",
    "r=6\n",
    "vol=4/3*pi*r**3\n",
    "print(\"Volume of the sphere with radius %d is: %f\"%(r,vol))\n"
   ]
  },
  {
   "cell_type": "markdown",
   "metadata": {},
   "source": [
    "### 16. Write a Python program to get the difference between a given number and 17, if the number is greater than 17 return double the absolute difference."
   ]
  },
  {
   "cell_type": "code",
   "execution_count": 176,
   "metadata": {},
   "outputs": [
    {
     "name": "stdout",
     "output_type": "stream",
     "text": [
      "Enter a number:20\n",
      "6\n"
     ]
    }
   ],
   "source": [
    "n=int(input('Enter a number:'))\n",
    "d=n-17\n",
    "if(n>17):\n",
    "    print(abs(d)*2)\n",
    "else:\n",
    "    print(abs(d))\n"
   ]
  },
  {
   "cell_type": "markdown",
   "metadata": {},
   "source": [
    "### 17. Write a Python program to test whether a number is within 100 of 1000 or 2000."
   ]
  },
  {
   "cell_type": "code",
   "execution_count": 177,
   "metadata": {},
   "outputs": [
    {
     "name": "stdout",
     "output_type": "stream",
     "text": [
      "Enter a number:900\n",
      "True\n"
     ]
    }
   ],
   "source": [
    "n=int(input('Enter a number:'))\n",
    "def within_no(n):\n",
    "        return ((abs(1000-n)<=100) or (abs(2000-n)<=100))\n",
    "print(within_no(n))"
   ]
  },
  {
   "cell_type": "markdown",
   "metadata": {},
   "source": [
    "### 18. Write a Python program to calculate the sum of three given numbers, if the values are equal then return three times of their sum."
   ]
  },
  {
   "cell_type": "code",
   "execution_count": 178,
   "metadata": {},
   "outputs": [
    {
     "name": "stdout",
     "output_type": "stream",
     "text": [
      "Enter first no. :2\n",
      "Enter second no. :1\n",
      "Enter third no. :4\n",
      "7\n"
     ]
    }
   ],
   "source": [
    "def sum_3(a,b,c):\n",
    "    if(a==b==c):\n",
    "        return 3*(a+b+c)\n",
    "    else:\n",
    "        return a+b+c\n",
    "a=int(input('Enter first no. :'))\n",
    "b=int(input('Enter second no. :'))\n",
    "c=int(input('Enter third no. :'))\n",
    "print(sum_3(a,b,c))    "
   ]
  },
  {
   "cell_type": "markdown",
   "metadata": {},
   "source": [
    "### 19. Write a Python program to get a new string from a given string where \"Is\" has been added to the front. If the given string already begins with \"Is\" then return the string unchanged."
   ]
  },
  {
   "cell_type": "code",
   "execution_count": 179,
   "metadata": {},
   "outputs": [
    {
     "name": "stdout",
     "output_type": "stream",
     "text": [
      "Enter the string:this\n",
      "Isthis\n"
     ]
    }
   ],
   "source": [
    "s=input('Enter the string:')\n",
    "if(s[0:2]=='Is'):\n",
    "    print(s)\n",
    "else:\n",
    "    print('Is'+s)"
   ]
  },
  {
   "cell_type": "markdown",
   "metadata": {},
   "source": [
    "### 20. Write a Python program to get a string which is n (non-negative integer) copies of a given string."
   ]
  },
  {
   "cell_type": "code",
   "execution_count": 180,
   "metadata": {},
   "outputs": [
    {
     "name": "stdout",
     "output_type": "stream",
     "text": [
      "Enter a string:hello\n",
      "Enter a positive integer:3\n",
      "hellohellohello\n",
      "hellohellohello\n"
     ]
    }
   ],
   "source": [
    "s=input('Enter a string:')\n",
    "n=int(input('Enter a positive integer:'))\n",
    "print(s*n)\n",
    "\n",
    "\n",
    "# another approach\n",
    "def new_string(s, n):\n",
    "   result = \"\"\n",
    "   for i in range(n):\n",
    "      result = result + s\n",
    "   return result\n",
    "\n",
    "print(new_string(s, n))\n",
    "\n"
   ]
  },
  {
   "cell_type": "markdown",
   "metadata": {},
   "source": [
    "### 21. Write a Python program to find whether a given number (accept from the user) is even or odd, print out an appropriate message to the user."
   ]
  },
  {
   "cell_type": "code",
   "execution_count": 182,
   "metadata": {},
   "outputs": [
    {
     "name": "stdout",
     "output_type": "stream",
     "text": [
      "Enter a number:489\n",
      "Entered number is odd\n"
     ]
    }
   ],
   "source": [
    "n=int(input('Enter a number:'))\n",
    "if (n%2)==0:\n",
    "    print('Entered number is even')\n",
    "else:\n",
    "    print('Entered number is odd')"
   ]
  },
  {
   "cell_type": "markdown",
   "metadata": {},
   "source": [
    "### 22. Write a Python program to count the number 4 in a given list."
   ]
  },
  {
   "cell_type": "code",
   "execution_count": 183,
   "metadata": {},
   "outputs": [
    {
     "name": "stdout",
     "output_type": "stream",
     "text": [
      "3\n",
      "7\n"
     ]
    }
   ],
   "source": [
    "def count4(list):\n",
    "    count=0\n",
    "    for i in list:\n",
    "        if i==4:\n",
    "            count=count+1\n",
    "    return count\n",
    "print(count4([1,2,3,4,5,4,7,6,5,4]))\n",
    "print(count4([4,4,4,4,4,0,0,8,7,9,6,5,4,4]))"
   ]
  },
  {
   "cell_type": "markdown",
   "metadata": {},
   "source": [
    "### 23. Write a Python program to get the n (non-negative integer) copies of the first 2 characters of a given string. Return the n copies of the whole string if the length is less than 2."
   ]
  },
  {
   "cell_type": "code",
   "execution_count": 184,
   "metadata": {},
   "outputs": [
    {
     "name": "stdout",
     "output_type": "stream",
     "text": [
      "hehe\n",
      "KKKKKKK\n"
     ]
    }
   ],
   "source": [
    "def copies_n(s,n):\n",
    "    if len(s)<2:\n",
    "        s=s\n",
    "    else:\n",
    "        s=s[0:2]\n",
    "    return s*n\n",
    "print(copies_n('hello',2))\n",
    "print(copies_n('K',7))\n",
    "    "
   ]
  },
  {
   "cell_type": "markdown",
   "metadata": {},
   "source": [
    "### 24. Write a Python program to test whether a passed letter is a vowel or not."
   ]
  },
  {
   "cell_type": "code",
   "execution_count": 185,
   "metadata": {},
   "outputs": [
    {
     "name": "stdout",
     "output_type": "stream",
     "text": [
      "This is a vowel\n",
      "This is not a vowel\n",
      "False\n",
      "True\n"
     ]
    }
   ],
   "source": [
    "def vowel_check(l):\n",
    "    if l=='a' or l=='e' or l=='i' or l=='o' or l=='u':\n",
    "        print('This is a vowel')\n",
    "    else:\n",
    "        print('This is not a vowel')\n",
    "vowel_check('a')\n",
    "vowel_check('j')\n",
    "\n",
    "#another approach\n",
    "def is_vowel(l):\n",
    "    vowels = 'aeiou'\n",
    "    return l in vowels\n",
    "print(is_vowel('c'))\n",
    "print(is_vowel('e'))"
   ]
  },
  {
   "cell_type": "markdown",
   "metadata": {},
   "source": [
    "### 25. Write a Python program to check whether a specified value is contained in a group of values. \n",
    "Test Data : \n",
    "3 -> [1, 5, 8, 3] : True <br>\n",
    "-1 -> [1, 5, 8, 3] : False"
   ]
  },
  {
   "cell_type": "code",
   "execution_count": 186,
   "metadata": {},
   "outputs": [
    {
     "name": "stdout",
     "output_type": "stream",
     "text": [
      "True\n",
      "False\n"
     ]
    }
   ],
   "source": [
    "def value_check(group,value):\n",
    "    return value in group\n",
    "print(value_check([1,2,3,4,5,6],3))\n",
    "print(value_check([1,2,3,4,5,6],7))"
   ]
  },
  {
   "cell_type": "markdown",
   "metadata": {},
   "source": [
    "### 26. Write a Python program to create a histogram from a given list of integers."
   ]
  },
  {
   "cell_type": "code",
   "execution_count": 187,
   "metadata": {},
   "outputs": [
    {
     "name": "stdout",
     "output_type": "stream",
     "text": [
      "**\n",
      "\n",
      "*\n",
      "*****\n"
     ]
    }
   ],
   "source": [
    "def hist(val):\n",
    "    for i in val:\n",
    "        print('*'*i)\n",
    "        \n",
    "hist([2,0,1,5])"
   ]
  },
  {
   "cell_type": "markdown",
   "metadata": {},
   "source": [
    "### 27. Write a Python program to concatenate all elements in a list into a string and return it."
   ]
  },
  {
   "cell_type": "code",
   "execution_count": 200,
   "metadata": {},
   "outputs": [
    {
     "name": "stdout",
     "output_type": "stream",
     "text": [
      "hello001\n"
     ]
    }
   ],
   "source": [
    "def con(l):\n",
    "    s=''\n",
    "    for i in l:\n",
    "        s=s+i.__str__()\n",
    "    return s\n",
    "print(con(['h','e','l','l','o',0,0,1]))\n"
   ]
  },
  {
   "cell_type": "markdown",
   "metadata": {},
   "source": [
    "### 28. Write a Python program to print all even numbers from a given numbers list in the same order and stop the printing if any numbers that come after 237 in the sequence. \n",
    "Sample numbers list : <br>\n",
    "\n",
    "numbers = [    \n",
    "    386, 462, 47, 418, 907, 344, 236, 375, 823, 566, 597, 978, 328, 615, 953, 345, \n",
    "    399, 162, 758, 219, 918, 237, 412, 566, 826, 248, 866, 950, 626, 949, 687, 217, \n",
    "    815, 67, 104, 58, 512, 24, 892, 894, 767, 553, 81, 379, 843, 831, 445, 742, 717, \n",
    "    958,743, 527\n",
    "    ]"
   ]
  },
  {
   "cell_type": "code",
   "execution_count": 212,
   "metadata": {},
   "outputs": [
    {
     "name": "stdout",
     "output_type": "stream",
     "text": [
      "2\n",
      "4\n",
      "6\n",
      "230\n",
      "232\n",
      "232\n",
      "234\n",
      "236\n"
     ]
    }
   ],
   "source": [
    "l=[1,2,3,4,5,6,230,231,232,232,234,235,236,237,238,239,240]\n",
    "for i in l:\n",
    "    if i<=237 and i%2==0:\n",
    "        print(i)"
   ]
  },
  {
   "cell_type": "markdown",
   "metadata": {},
   "source": [
    "### 29. Write a Python program to print out a set containing all the colors from color_list_1 which are not present in color_list_2. \n",
    "Test Data : <br>\n",
    "color_list_1 = set([\"White\", \"Black\", \"Red\"]) <br>\n",
    "color_list_2 = set([\"Red\", \"Green\"])<br>\n",
    "Expected Output : <br>\n",
    "{'Black', 'White'}"
   ]
  },
  {
   "cell_type": "code",
   "execution_count": 214,
   "metadata": {},
   "outputs": [
    {
     "name": "stdout",
     "output_type": "stream",
     "text": [
      "{'Black', 'White'}\n"
     ]
    }
   ],
   "source": [
    "color_list_1 = set([\"White\", \"Black\", \"Red\"]) \n",
    "color_list_2 = set([\"Red\", \"Green\"])\n",
    "print(color_list_1.difference(color_list_2))"
   ]
  },
  {
   "cell_type": "markdown",
   "metadata": {},
   "source": [
    "### 30. Write a Python program that will accept the base and height of a triangle and compute the area. "
   ]
  },
  {
   "cell_type": "code",
   "execution_count": 216,
   "metadata": {},
   "outputs": [
    {
     "name": "stdout",
     "output_type": "stream",
     "text": [
      "Input the base : 4\n",
      "Input the height : 7\n",
      "14.0\n"
     ]
    }
   ],
   "source": [
    "def area_triangle(b,h):\n",
    "    area=0.5*b*h\n",
    "    return area\n",
    "b = int(input(\"Input the base : \"))\n",
    "h = int(input(\"Input the height : \"))\n",
    "print(area_triangle(b,h))"
   ]
  },
  {
   "cell_type": "markdown",
   "metadata": {},
   "source": [
    "### 31. Write a Python program to compute the greatest common divisor (GCD) of two positive integers. "
   ]
  },
  {
   "cell_type": "code",
   "execution_count": 222,
   "metadata": {},
   "outputs": [
    {
     "name": "stdout",
     "output_type": "stream",
     "text": [
      "Enter the first positive no.: 7\n",
      "Enter the second positive no.: 5\n",
      "1\n"
     ]
    }
   ],
   "source": [
    "n1=int(input('Enter the first positive no.: '))\n",
    "n2 = int(input('Enter the second positive no.: '))\n",
    "def gcd(n1, n2):\n",
    "    \n",
    "    for k in range(int(n2 / 2), 0, -1):\n",
    "        if n1 % k == 0 and n2% k == 0:\n",
    "            gcd = k\n",
    "            break  \n",
    "    return gcd\n",
    "\n",
    "print(gcd(n1, n2))\n"
   ]
  },
  {
   "cell_type": "markdown",
   "metadata": {},
   "source": [
    "### 32. Write a Python program to get the least common multiple (LCM) of two positive integers."
   ]
  },
  {
   "cell_type": "code",
   "execution_count": 226,
   "metadata": {},
   "outputs": [
    {
     "name": "stdout",
     "output_type": "stream",
     "text": [
      "Enter the first positive no.: 3\n",
      "Enter the second positive no.: 5\n",
      "15\n"
     ]
    }
   ],
   "source": [
    "def lcm(x, y):\n",
    "    if x > y:  \n",
    "        greater = x  \n",
    "    else:  \n",
    "        greater = y  \n",
    "    while(True):  \n",
    "        if((greater % x == 0) and (greater % y == 0)):  \n",
    "            lcm = greater  \n",
    "            break  \n",
    "        greater=greater+1  \n",
    "    return lcm  \n",
    "x=int(input('Enter the first positive no.: '))\n",
    "y = int(input('Enter the second positive no.: '))\n",
    "print(lcm(x, y))"
   ]
  },
  {
   "cell_type": "markdown",
   "metadata": {},
   "source": [
    "### 33. Write a Python program to sum of three given integers. However, if two values are equal sum will be zero."
   ]
  },
  {
   "cell_type": "code",
   "execution_count": 228,
   "metadata": {},
   "outputs": [
    {
     "name": "stdout",
     "output_type": "stream",
     "text": [
      "13\n",
      "0\n"
     ]
    }
   ],
   "source": [
    "def sum3(x,y,z):\n",
    "    if x==y or y==z or x==z:\n",
    "        return 0\n",
    "    else:\n",
    "        return x+y+z\n",
    "print(sum3(2,4,7))\n",
    "print(sum3(2,4,2))"
   ]
  },
  {
   "cell_type": "markdown",
   "metadata": {},
   "source": [
    "### 34. Write a Python program to sum of two given integers. However, if the sum is between 15 to 20 it will return 20."
   ]
  },
  {
   "cell_type": "code",
   "execution_count": 231,
   "metadata": {},
   "outputs": [
    {
     "name": "stdout",
     "output_type": "stream",
     "text": [
      "6\n",
      "20\n"
     ]
    }
   ],
   "source": [
    "def sum2(x,y):\n",
    "    s=x+y\n",
    "    if s in range(15, 20):\n",
    "        return 20\n",
    "    else:\n",
    "        return s\n",
    "print(sum2(2,4))\n",
    "print(sum2(12,5))"
   ]
  },
  {
   "cell_type": "markdown",
   "metadata": {},
   "source": [
    "### 35. Write a Python program that will return true if the two given integer values are equal or their sum or difference is 5."
   ]
  },
  {
   "cell_type": "code",
   "execution_count": 237,
   "metadata": {},
   "outputs": [
    {
     "name": "stdout",
     "output_type": "stream",
     "text": [
      "True\n",
      "True\n",
      "True\n",
      "False\n"
     ]
    }
   ],
   "source": [
    "def num2(x,y):\n",
    "    if x==y or (x+y)==5 or abs((x-y))==5:\n",
    "        return True\n",
    "    else:\n",
    "        return False\n",
    "print(num2(1,4))\n",
    "print(num2(12,7))\n",
    "print(num2(12,12))\n",
    "print(num2(62,7))"
   ]
  },
  {
   "cell_type": "markdown",
   "metadata": {},
   "source": [
    "### 36. Write a Python program to add two objects if both objects are an integer type."
   ]
  },
  {
   "cell_type": "code",
   "execution_count": 244,
   "metadata": {},
   "outputs": [
    {
     "name": "stdout",
     "output_type": "stream",
     "text": [
      "19\n"
     ]
    }
   ],
   "source": [
    "def check_int(x,y):\n",
    "    if not (isinstance(x, int) and isinstance(y, int)):\n",
    "         raise TypeError(\"Inputs must be integers\")\n",
    "    return x + y\n",
    "\n",
    "print(check_int(12,7))\n"
   ]
  },
  {
   "cell_type": "markdown",
   "metadata": {},
   "source": [
    "### 37. Write a Python program to display your details like name, age, address in three different lines."
   ]
  },
  {
   "cell_type": "code",
   "execution_count": 250,
   "metadata": {},
   "outputs": [
    {
     "name": "stdout",
     "output_type": "stream",
     "text": [
      "Name:Ravi\n",
      "Age:29\n",
      "Address:H.No.-22,Palam Vihar,Mumbai\n"
     ]
    }
   ],
   "source": [
    "def details(x,y,z):\n",
    "    print('Name:%s\\nAge:%d\\nAddress:%s'%(x,y,z))\n",
    "details('Ravi',29,'H.No.-22,Palam Vihar,Mumbai')\n"
   ]
  },
  {
   "cell_type": "markdown",
   "metadata": {},
   "source": [
    "### 38. Write a Python program to solve (x + y) * (x + y). \n",
    "Test Data : x = 4, y = 3 <br>\n",
    "Expected Output : (4 + 3) ^ 2) = 49"
   ]
  },
  {
   "cell_type": "code",
   "execution_count": 255,
   "metadata": {},
   "outputs": [
    {
     "name": "stdout",
     "output_type": "stream",
     "text": [
      "Enter the first no.: 1\n",
      "Enter the second no.: 2\n",
      "(x+y)*(x+y):9\n",
      "(1 + 2) ^ 2) = 9\n"
     ]
    }
   ],
   "source": [
    "x=int(input('Enter the first no.: '))\n",
    "y = int(input('Enter the second no.: '))\n",
    "print('(x+y)*(x+y):%d'%((x+y)*(x+y)))\n",
    "\n",
    "#another approach\n",
    "result=(x+y)*(x+y)\n",
    "print(\"({} + {}) ^ 2) = {}\".format(x, y, result))"
   ]
  },
  {
   "cell_type": "markdown",
   "metadata": {},
   "source": [
    "### 39. Write a Python program to compute the future value of a specified principal amount, rate of interest, and a number of years.\n",
    "Test Data : amt = 10000, int = 3.5, years = 7 <br>\n",
    "Expected Output : 12722.79"
   ]
  },
  {
   "cell_type": "code",
   "execution_count": 263,
   "metadata": {},
   "outputs": [
    {
     "name": "stdout",
     "output_type": "stream",
     "text": [
      "12722.792627665729\n"
     ]
    }
   ],
   "source": [
    "def value(amt,roi,yrs):\n",
    "    return (amt*((1+(0.01*roi)) ** yrs))\n",
    "print((value(10000,3.5,7)))"
   ]
  },
  {
   "cell_type": "markdown",
   "metadata": {},
   "source": [
    "### 40. Write a Python program to compute the distance between the points (x1, y1) and (x2, y2)."
   ]
  },
  {
   "cell_type": "code",
   "execution_count": 266,
   "metadata": {},
   "outputs": [
    {
     "data": {
      "text/plain": [
       "6.324555320336759"
      ]
     },
     "execution_count": 266,
     "metadata": {},
     "output_type": "execute_result"
    }
   ],
   "source": [
    "import math\n",
    "def dist(x1,y1,x2,y2):\n",
    "    return math.sqrt((x2-x1)**2+(y2-y1)**2)\n",
    "dist(6,6,4,0)"
   ]
  },
  {
   "cell_type": "code",
   "execution_count": null,
   "metadata": {},
   "outputs": [],
   "source": []
  }
 ],
 "metadata": {
  "kernelspec": {
   "display_name": "Python 3",
   "language": "python",
   "name": "python3"
  },
  "language_info": {
   "codemirror_mode": {
    "name": "ipython",
    "version": 3
   },
   "file_extension": ".py",
   "mimetype": "text/x-python",
   "name": "python",
   "nbconvert_exporter": "python",
   "pygments_lexer": "ipython3",
   "version": "3.6.8"
  }
 },
 "nbformat": 4,
 "nbformat_minor": 4
}
