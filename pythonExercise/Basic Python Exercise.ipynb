{
 "cells": [
  {
   "cell_type": "markdown",
   "metadata": {},
   "source": [
    "### 1. Write a Python program to print the following string in a specific format (see the output).\n",
    "Sample String : \"Twinkle, twinkle, little star, How I wonder what you are! Up above the world so high, Like a diamond in the sky. Twinkle, twinkle, little star, How I wonder what you are\" Output :\n",
    "\n",
    "Twinkle, twinkle, little star,<br> &nbsp;&nbsp;&nbsp;\n",
    "\tHow I wonder what you are! <br> &nbsp;&nbsp;&nbsp;&nbsp;&nbsp;&nbsp;\n",
    "\t\tUp above the world so high,\t\n",
    "\t\tLike a diamond in the sky.<br> \n",
    "Twinkle, twinkle, little star, <br> &nbsp;&nbsp;&nbsp;\n",
    "\tHow I wonder what you are\n"
   ]
  },
  {
   "cell_type": "code",
   "execution_count": 160,
   "metadata": {},
   "outputs": [
    {
     "name": "stdout",
     "output_type": "stream",
     "text": [
      "Twinkle, twinkle, little star, \n",
      "\tHow I wonder what you are! \n",
      "\t\tUp above the world so high, \n",
      "Like a diamond in the sky. \n",
      "Twinkle, twinkle, little star, \n",
      "\tHow I wonder what you are\n"
     ]
    }
   ],
   "source": [
    "print(\"Twinkle, twinkle, little star, \\n\\tHow I wonder what you are! \\n\\t\\tUp above the world so high, \\nLike a diamond in the sky. \\nTwinkle, twinkle, little star, \\n\\tHow I wonder what you are\")"
   ]
  },
  {
   "cell_type": "markdown",
   "metadata": {},
   "source": [
    "### 2. Write a Python program to get the Python version you are using."
   ]
  },
  {
   "cell_type": "code",
   "execution_count": 161,
   "metadata": {},
   "outputs": [
    {
     "name": "stdout",
     "output_type": "stream",
     "text": [
      "3.6.8 |Anaconda custom (64-bit)| (default, Dec 30 2018, 01:22:34) \n",
      "[GCC 7.3.0]\n"
     ]
    }
   ],
   "source": [
    "import sys\n",
    "print(sys.version)"
   ]
  },
  {
   "cell_type": "markdown",
   "metadata": {},
   "source": [
    "### 3. Write a Python program to display the current date and time.\n",
    "Sample Output : \n",
    "Current date and time : \n",
    "2014-07-05 14:34:14"
   ]
  },
  {
   "cell_type": "code",
   "execution_count": 162,
   "metadata": {},
   "outputs": [
    {
     "name": "stdout",
     "output_type": "stream",
     "text": [
      "Current date and time : \n",
      "2020-06-28 21:15:34\n"
     ]
    }
   ],
   "source": [
    "from datetime import datetime\n",
    "print(\"Current date and time : \")\n",
    "current=datetime.today()                     #or datetime.now()\n",
    "print(current.strftime(\"%Y-%m-%d %H:%M:%S\"))"
   ]
  },
  {
   "cell_type": "markdown",
   "metadata": {},
   "source": [
    "### 4. Write a Python program which accepts the radius of a circle from the user and compute the area. \n",
    "Sample Output : \n",
    "r = 1.1\n",
    "Area = 3.8013271108436504"
   ]
  },
  {
   "cell_type": "code",
   "execution_count": 164,
   "metadata": {},
   "outputs": [
    {
     "name": "stdout",
     "output_type": "stream",
     "text": [
      "Enter radius of the circle:6\n",
      "r= 6.0\n",
      "Area= 37.69911184307752\n"
     ]
    }
   ],
   "source": [
    "from math import pi\n",
    "r=float(input(\"Enter radius of the circle:\"))\n",
    "print(\"r=\",r)\n",
    "print(\"Area=\",2*pi*r)"
   ]
  },
  {
   "cell_type": "markdown",
   "metadata": {},
   "source": [
    "### 5. Write a Python program which accepts the user's first and last name and print them in reverse order with a space between them."
   ]
  },
  {
   "cell_type": "code",
   "execution_count": 165,
   "metadata": {},
   "outputs": [
    {
     "name": "stdout",
     "output_type": "stream",
     "text": [
      "Enter your first name:kokila\n",
      "Enter your last name:jamwal\n",
      "Hello, jamwal kokila\n",
      "Reverse of the name is: alikok lawmaj\n"
     ]
    }
   ],
   "source": [
    "f=input(\"Enter your first name:\")\n",
    "l=input(\"Enter your last name:\")\n",
    "print(\"Hello, \"+l+\" \"+f)\n",
    "print(\"Reverse of the name is: \"+f[::-1]+\" \"+l[::-1])"
   ]
  },
  {
   "cell_type": "markdown",
   "metadata": {},
   "source": [
    "### 6. Write a Python program which accepts a sequence of comma-separated numbers from user and generate a list and a tuple with those numbers. \n",
    "Sample data : 3, 5, 7, 23\n",
    "Output : \n",
    "List : ['3', ' 5', ' 7', ' 23'] \n",
    "Tuple : ('3', ' 5', ' 7', ' 23')"
   ]
  },
  {
   "cell_type": "code",
   "execution_count": 166,
   "metadata": {},
   "outputs": [
    {
     "name": "stdout",
     "output_type": "stream",
     "text": [
      "Enter a sequence of comma-seperated numbers: 3,5,7,8,9\n",
      "List:  ['3', '5', '7', '8', '9']\n",
      "Tuple:  ('3', '5', '7', '8', '9')\n"
     ]
    }
   ],
   "source": [
    "data=input('Enter a sequence of comma-seperated numbers: ')\n",
    "l=data.split(',')\n",
    "print('List: ',l)\n",
    "t=tuple(l)\n",
    "print('Tuple: ',t)"
   ]
  },
  {
   "cell_type": "markdown",
   "metadata": {},
   "source": [
    "### 7. Write a Python program to accept a filename from the user and print the extension of that. \n",
    "Sample filename : abc.java \n",
    "Output : java"
   ]
  },
  {
   "cell_type": "code",
   "execution_count": 167,
   "metadata": {},
   "outputs": [
    {
     "name": "stdout",
     "output_type": "stream",
     "text": [
      "Enter a Filename with its extension: abc.py\n",
      "File name is:  abc.py\n",
      "File extension is: py\n"
     ]
    }
   ],
   "source": [
    "file=input('Enter a Filename with its extension: ')\n",
    "print('File name is: ',file)\n",
    "ext=file.split('.')\n",
    "print('File extension is: '+ext[-1])"
   ]
  },
  {
   "cell_type": "markdown",
   "metadata": {},
   "source": [
    "###  8. Write a Python program to display the first and last colors from the following list.\n",
    "color_list = [\"Red\",\"Green\",\"White\" ,\"Black\"]"
   ]
  },
  {
   "cell_type": "code",
   "execution_count": 168,
   "metadata": {},
   "outputs": [
    {
     "name": "stdout",
     "output_type": "stream",
     "text": [
      "First color in the list is:  Red\n",
      "Last color in the list is:  Black\n"
     ]
    }
   ],
   "source": [
    "color_list=['Red','Green','White','Black']\n",
    "print('First color in the list is: ',color_list[0])\n",
    "print('Last color in the list is: ',color_list[-1])"
   ]
  },
  {
   "cell_type": "markdown",
   "metadata": {},
   "source": [
    "### 9. Write a Python program to display the examination schedule. (extract the date from exam_st_date). \n",
    "exam_st_date = (11, 12, 2014)\n",
    "Sample Output : The examination will start from : 11 / 12 / 2014"
   ]
  },
  {
   "cell_type": "code",
   "execution_count": 169,
   "metadata": {},
   "outputs": [
    {
     "name": "stdout",
     "output_type": "stream",
     "text": [
      "The examination will start from :11/12/2014\n"
     ]
    }
   ],
   "source": [
    "exam_st_date = (11, 12, 2014)\n",
    "print('The examination will start from :%d/%d/%d'%exam_st_date)"
   ]
  },
  {
   "cell_type": "markdown",
   "metadata": {},
   "source": [
    " ### 10. Write a Python program that accepts an integer (n) and computes the value of n+nn+nnn.\n",
    "Sample value of n is 5 \n",
    "Expected Result : 615"
   ]
  },
  {
   "cell_type": "code",
   "execution_count": 170,
   "metadata": {},
   "outputs": [
    {
     "name": "stdout",
     "output_type": "stream",
     "text": [
      "Enter an integer:5\n",
      "Entered value:  5\n",
      "n+nn+nnn: 615\n"
     ]
    }
   ],
   "source": [
    "n=int(input('Enter an integer:'))\n",
    "print('Entered value: ',n)\n",
    "nn=int('%s%s'%(n,n))  \n",
    "nnn=int('%s%s%s'%(n,n,n))  \n",
    "print('n+nn+nnn: %d'%(n+nn+nnn)) "
   ]
  },
  {
   "cell_type": "markdown",
   "metadata": {},
   "source": [
    "### 11. Write a Python program to print the documents (syntax, description etc.) of Python built-in function(s). \n",
    "Sample function : abs()\n",
    "Expected Result : \n",
    "abs(number) -> number\n",
    "Return the absolute value of the argument."
   ]
  },
  {
   "cell_type": "code",
   "execution_count": 171,
   "metadata": {},
   "outputs": [
    {
     "name": "stdout",
     "output_type": "stream",
     "text": [
      "Return the absolute value of the argument.\n"
     ]
    }
   ],
   "source": [
    "print(abs.__doc__)"
   ]
  },
  {
   "cell_type": "markdown",
   "metadata": {},
   "source": [
    "### 12. Write a Python program to print the calendar of a given month and year.\n",
    "Note : Use 'calendar' module. "
   ]
  },
  {
   "cell_type": "code",
   "execution_count": 172,
   "metadata": {},
   "outputs": [
    {
     "name": "stdout",
     "output_type": "stream",
     "text": [
      "Enter month: 6\n",
      "Enter year:1990\n",
      "     June 1990\n",
      "Mo Tu We Th Fr Sa Su\n",
      "             1  2  3\n",
      " 4  5  6  7  8  9 10\n",
      "11 12 13 14 15 16 17\n",
      "18 19 20 21 22 23 24\n",
      "25 26 27 28 29 30\n",
      "\n"
     ]
    }
   ],
   "source": [
    "import calendar\n",
    "month=int(input('Enter month: '))\n",
    "year=int(input('Enter year:'))\n",
    "print(calendar.month(year, month))"
   ]
  },
  {
   "cell_type": "markdown",
   "metadata": {},
   "source": [
    "### 13. Write a Python program to print the following here document. \n",
    "Sample string <br>a string that you \"don't\" have to escape<br>This<br>is a ....... multi-line<br>heredoc string --------> example"
   ]
  },
  {
   "cell_type": "code",
   "execution_count": 173,
   "metadata": {},
   "outputs": [
    {
     "name": "stdout",
     "output_type": "stream",
     "text": [
      "a string that you \"don't\" have to escape \n",
      "This \n",
      "is a ....... multi-line \n",
      "heredoc string -------> example \n"
     ]
    }
   ],
   "source": [
    "print('a string that you \\\"don\\'t\\\" have to escape \\nThis \\nis a ....... multi-line \\nheredoc string -------> example ')"
   ]
  },
  {
   "cell_type": "markdown",
   "metadata": {},
   "source": [
    "### 14. Write a Python program to calculate number of days between two dates.\n",
    "Sample dates : (2014, 7, 2), (2014, 7, 11)\n",
    "Expected output : 9 days "
   ]
  },
  {
   "cell_type": "code",
   "execution_count": 174,
   "metadata": {},
   "outputs": [
    {
     "name": "stdout",
     "output_type": "stream",
     "text": [
      "374\n"
     ]
    }
   ],
   "source": [
    "from datetime import date\n",
    "d1=date(2014,7,2)\n",
    "d2=date(2015,7,11)\n",
    "print((d2-d1).days)\n"
   ]
  },
  {
   "cell_type": "markdown",
   "metadata": {},
   "source": [
    "### 15. Write a Python program to get the volume of a sphere with radius 6."
   ]
  },
  {
   "cell_type": "code",
   "execution_count": 175,
   "metadata": {},
   "outputs": [
    {
     "name": "stdout",
     "output_type": "stream",
     "text": [
      "Volume of the sphere with radius 6 is: 904.778684\n"
     ]
    }
   ],
   "source": [
    "from math import pi\n",
    "r=6\n",
    "vol=4/3*pi*r**3\n",
    "print(\"Volume of the sphere with radius %d is: %f\"%(r,vol))\n"
   ]
  },
  {
   "cell_type": "markdown",
   "metadata": {},
   "source": [
    "### 16. Write a Python program to get the difference between a given number and 17, if the number is greater than 17 return double the absolute difference."
   ]
  },
  {
   "cell_type": "code",
   "execution_count": 176,
   "metadata": {},
   "outputs": [
    {
     "name": "stdout",
     "output_type": "stream",
     "text": [
      "Enter a number:20\n",
      "6\n"
     ]
    }
   ],
   "source": [
    "n=int(input('Enter a number:'))\n",
    "d=n-17\n",
    "if(n>17):\n",
    "    print(abs(d)*2)\n",
    "else:\n",
    "    print(abs(d))\n"
   ]
  },
  {
   "cell_type": "markdown",
   "metadata": {},
   "source": [
    "### 17. Write a Python program to test whether a number is within 100 of 1000 or 2000."
   ]
  },
  {
   "cell_type": "code",
   "execution_count": 177,
   "metadata": {},
   "outputs": [
    {
     "name": "stdout",
     "output_type": "stream",
     "text": [
      "Enter a number:900\n",
      "True\n"
     ]
    }
   ],
   "source": [
    "n=int(input('Enter a number:'))\n",
    "def within_no(n):\n",
    "        return ((abs(1000-n)<=100) or (abs(2000-n)<=100))\n",
    "print(within_no(n))"
   ]
  },
  {
   "cell_type": "markdown",
   "metadata": {},
   "source": [
    "### 18. Write a Python program to calculate the sum of three given numbers, if the values are equal then return three times of their sum."
   ]
  },
  {
   "cell_type": "code",
   "execution_count": 178,
   "metadata": {},
   "outputs": [
    {
     "name": "stdout",
     "output_type": "stream",
     "text": [
      "Enter first no. :2\n",
      "Enter second no. :1\n",
      "Enter third no. :4\n",
      "7\n"
     ]
    }
   ],
   "source": [
    "def sum_3(a,b,c):\n",
    "    if(a==b==c):\n",
    "        return 3*(a+b+c)\n",
    "    else:\n",
    "        return a+b+c\n",
    "a=int(input('Enter first no. :'))\n",
    "b=int(input('Enter second no. :'))\n",
    "c=int(input('Enter third no. :'))\n",
    "print(sum_3(a,b,c))    "
   ]
  },
  {
   "cell_type": "markdown",
   "metadata": {},
   "source": [
    "### 19. Write a Python program to get a new string from a given string where \"Is\" has been added to the front. If the given string already begins with \"Is\" then return the string unchanged."
   ]
  },
  {
   "cell_type": "code",
   "execution_count": 179,
   "metadata": {},
   "outputs": [
    {
     "name": "stdout",
     "output_type": "stream",
     "text": [
      "Enter the string:this\n",
      "Isthis\n"
     ]
    }
   ],
   "source": [
    "s=input('Enter the string:')\n",
    "if(s[0:2]=='Is'):\n",
    "    print(s)\n",
    "else:\n",
    "    print('Is'+s)"
   ]
  },
  {
   "cell_type": "markdown",
   "metadata": {},
   "source": [
    "### 20. Write a Python program to get a string which is n (non-negative integer) copies of a given string."
   ]
  },
  {
   "cell_type": "code",
   "execution_count": 180,
   "metadata": {},
   "outputs": [
    {
     "name": "stdout",
     "output_type": "stream",
     "text": [
      "Enter a string:hello\n",
      "Enter a positive integer:3\n",
      "hellohellohello\n",
      "hellohellohello\n"
     ]
    }
   ],
   "source": [
    "s=input('Enter a string:')\n",
    "n=int(input('Enter a positive integer:'))\n",
    "print(s*n)\n",
    "\n",
    "\n",
    "# another approach\n",
    "def new_string(s, n):\n",
    "   result = \"\"\n",
    "   for i in range(n):\n",
    "      result = result + s\n",
    "   return result\n",
    "\n",
    "print(new_string(s, n))\n",
    "\n"
   ]
  },
  {
   "cell_type": "markdown",
   "metadata": {},
   "source": [
    "### 21. Write a Python program to find whether a given number (accept from the user) is even or odd, print out an appropriate message to the user."
   ]
  },
  {
   "cell_type": "code",
   "execution_count": 182,
   "metadata": {},
   "outputs": [
    {
     "name": "stdout",
     "output_type": "stream",
     "text": [
      "Enter a number:489\n",
      "Entered number is odd\n"
     ]
    }
   ],
   "source": [
    "n=int(input('Enter a number:'))\n",
    "if (n%2)==0:\n",
    "    print('Entered number is even')\n",
    "else:\n",
    "    print('Entered number is odd')"
   ]
  },
  {
   "cell_type": "markdown",
   "metadata": {},
   "source": [
    "### 22. Write a Python program to count the number 4 in a given list."
   ]
  },
  {
   "cell_type": "code",
   "execution_count": 183,
   "metadata": {},
   "outputs": [
    {
     "name": "stdout",
     "output_type": "stream",
     "text": [
      "3\n",
      "7\n"
     ]
    }
   ],
   "source": [
    "def count4(list):\n",
    "    count=0\n",
    "    for i in list:\n",
    "        if i==4:\n",
    "            count=count+1\n",
    "    return count\n",
    "print(count4([1,2,3,4,5,4,7,6,5,4]))\n",
    "print(count4([4,4,4,4,4,0,0,8,7,9,6,5,4,4]))"
   ]
  },
  {
   "cell_type": "markdown",
   "metadata": {},
   "source": [
    "### 23. Write a Python program to get the n (non-negative integer) copies of the first 2 characters of a given string. Return the n copies of the whole string if the length is less than 2."
   ]
  },
  {
   "cell_type": "code",
   "execution_count": 184,
   "metadata": {},
   "outputs": [
    {
     "name": "stdout",
     "output_type": "stream",
     "text": [
      "hehe\n",
      "KKKKKKK\n"
     ]
    }
   ],
   "source": [
    "def copies_n(s,n):\n",
    "    if len(s)<2:\n",
    "        s=s\n",
    "    else:\n",
    "        s=s[0:2]\n",
    "    return s*n\n",
    "print(copies_n('hello',2))\n",
    "print(copies_n('K',7))\n",
    "    "
   ]
  },
  {
   "cell_type": "markdown",
   "metadata": {},
   "source": [
    "### 24. Write a Python program to test whether a passed letter is a vowel or not."
   ]
  },
  {
   "cell_type": "code",
   "execution_count": 185,
   "metadata": {},
   "outputs": [
    {
     "name": "stdout",
     "output_type": "stream",
     "text": [
      "This is a vowel\n",
      "This is not a vowel\n",
      "False\n",
      "True\n"
     ]
    }
   ],
   "source": [
    "def vowel_check(l):\n",
    "    if l=='a' or l=='e' or l=='i' or l=='o' or l=='u':\n",
    "        print('This is a vowel')\n",
    "    else:\n",
    "        print('This is not a vowel')\n",
    "vowel_check('a')\n",
    "vowel_check('j')\n",
    "\n",
    "#another approach\n",
    "def is_vowel(l):\n",
    "    vowels = 'aeiou'\n",
    "    return l in vowels\n",
    "print(is_vowel('c'))\n",
    "print(is_vowel('e'))"
   ]
  },
  {
   "cell_type": "markdown",
   "metadata": {},
   "source": [
    "### 25. Write a Python program to check whether a specified value is contained in a group of values. \n",
    "Test Data : \n",
    "3 -> [1, 5, 8, 3] : True <br>\n",
    "-1 -> [1, 5, 8, 3] : False"
   ]
  },
  {
   "cell_type": "code",
   "execution_count": 186,
   "metadata": {},
   "outputs": [
    {
     "name": "stdout",
     "output_type": "stream",
     "text": [
      "True\n",
      "False\n"
     ]
    }
   ],
   "source": [
    "def value_check(group,value):\n",
    "    return value in group\n",
    "print(value_check([1,2,3,4,5,6],3))\n",
    "print(value_check([1,2,3,4,5,6],7))"
   ]
  },
  {
   "cell_type": "markdown",
   "metadata": {},
   "source": [
    "### 26. Write a Python program to create a histogram from a given list of integers."
   ]
  },
  {
   "cell_type": "code",
   "execution_count": 187,
   "metadata": {},
   "outputs": [
    {
     "name": "stdout",
     "output_type": "stream",
     "text": [
      "**\n",
      "\n",
      "*\n",
      "*****\n"
     ]
    }
   ],
   "source": [
    "def hist(val):\n",
    "    for i in val:\n",
    "        print('*'*i)\n",
    "        \n",
    "hist([2,0,1,5])"
   ]
  },
  {
   "cell_type": "markdown",
   "metadata": {},
   "source": [
    "### 27. Write a Python program to concatenate all elements in a list into a string and return it."
   ]
  },
  {
   "cell_type": "code",
   "execution_count": 200,
   "metadata": {},
   "outputs": [
    {
     "name": "stdout",
     "output_type": "stream",
     "text": [
      "hello001\n"
     ]
    }
   ],
   "source": [
    "def con(l):\n",
    "    s=''\n",
    "    for i in l:\n",
    "        s=s+i.__str__()\n",
    "    return s\n",
    "print(con(['h','e','l','l','o',0,0,1]))\n"
   ]
  },
  {
   "cell_type": "markdown",
   "metadata": {},
   "source": [
    "### 28. Write a Python program to print all even numbers from a given numbers list in the same order and stop the printing if any numbers that come after 237 in the sequence. \n",
    "Sample numbers list : <br>\n",
    "\n",
    "numbers = [    \n",
    "    386, 462, 47, 418, 907, 344, 236, 375, 823, 566, 597, 978, 328, 615, 953, 345, \n",
    "    399, 162, 758, 219, 918, 237, 412, 566, 826, 248, 866, 950, 626, 949, 687, 217, \n",
    "    815, 67, 104, 58, 512, 24, 892, 894, 767, 553, 81, 379, 843, 831, 445, 742, 717, \n",
    "    958,743, 527\n",
    "    ]"
   ]
  },
  {
   "cell_type": "code",
   "execution_count": 212,
   "metadata": {},
   "outputs": [
    {
     "name": "stdout",
     "output_type": "stream",
     "text": [
      "2\n",
      "4\n",
      "6\n",
      "230\n",
      "232\n",
      "232\n",
      "234\n",
      "236\n"
     ]
    }
   ],
   "source": [
    "l=[1,2,3,4,5,6,230,231,232,232,234,235,236,237,238,239,240]\n",
    "for i in l:\n",
    "    if i<=237 and i%2==0:\n",
    "        print(i)"
   ]
  },
  {
   "cell_type": "markdown",
   "metadata": {},
   "source": [
    "### 29. Write a Python program to print out a set containing all the colors from color_list_1 which are not present in color_list_2. \n",
    "Test Data : <br>\n",
    "color_list_1 = set([\"White\", \"Black\", \"Red\"]) <br>\n",
    "color_list_2 = set([\"Red\", \"Green\"])<br>\n",
    "Expected Output : <br>\n",
    "{'Black', 'White'}"
   ]
  },
  {
   "cell_type": "code",
   "execution_count": 214,
   "metadata": {},
   "outputs": [
    {
     "name": "stdout",
     "output_type": "stream",
     "text": [
      "{'Black', 'White'}\n"
     ]
    }
   ],
   "source": [
    "color_list_1 = set([\"White\", \"Black\", \"Red\"]) \n",
    "color_list_2 = set([\"Red\", \"Green\"])\n",
    "print(color_list_1.difference(color_list_2))"
   ]
  },
  {
   "cell_type": "markdown",
   "metadata": {},
   "source": [
    "### 30. Write a Python program that will accept the base and height of a triangle and compute the area. "
   ]
  },
  {
   "cell_type": "code",
   "execution_count": 216,
   "metadata": {},
   "outputs": [
    {
     "name": "stdout",
     "output_type": "stream",
     "text": [
      "Input the base : 4\n",
      "Input the height : 7\n",
      "14.0\n"
     ]
    }
   ],
   "source": [
    "def area_triangle(b,h):\n",
    "    area=0.5*b*h\n",
    "    return area\n",
    "b = int(input(\"Input the base : \"))\n",
    "h = int(input(\"Input the height : \"))\n",
    "print(area_triangle(b,h))"
   ]
  },
  {
   "cell_type": "markdown",
   "metadata": {},
   "source": [
    "### 31. Write a Python program to compute the greatest common divisor (GCD) of two positive integers. "
   ]
  },
  {
   "cell_type": "code",
   "execution_count": 222,
   "metadata": {},
   "outputs": [
    {
     "name": "stdout",
     "output_type": "stream",
     "text": [
      "Enter the first positive no.: 7\n",
      "Enter the second positive no.: 5\n",
      "1\n"
     ]
    }
   ],
   "source": [
    "n1=int(input('Enter the first positive no.: '))\n",
    "n2 = int(input('Enter the second positive no.: '))\n",
    "def gcd(n1, n2):\n",
    "    \n",
    "    for k in range(int(n2 / 2), 0, -1):\n",
    "        if n1 % k == 0 and n2% k == 0:\n",
    "            gcd = k\n",
    "            break  \n",
    "    return gcd\n",
    "\n",
    "print(gcd(n1, n2))\n"
   ]
  },
  {
   "cell_type": "markdown",
   "metadata": {},
   "source": [
    "### 32. Write a Python program to get the least common multiple (LCM) of two positive integers."
   ]
  },
  {
   "cell_type": "code",
   "execution_count": 226,
   "metadata": {},
   "outputs": [
    {
     "name": "stdout",
     "output_type": "stream",
     "text": [
      "Enter the first positive no.: 3\n",
      "Enter the second positive no.: 5\n",
      "15\n"
     ]
    }
   ],
   "source": [
    "def lcm(x, y):\n",
    "    if x > y:  \n",
    "        greater = x  \n",
    "    else:  \n",
    "        greater = y  \n",
    "    while(True):  \n",
    "        if((greater % x == 0) and (greater % y == 0)):  \n",
    "            lcm = greater  \n",
    "            break  \n",
    "        greater=greater+1  \n",
    "    return lcm  \n",
    "x=int(input('Enter the first positive no.: '))\n",
    "y = int(input('Enter the second positive no.: '))\n",
    "print(lcm(x, y))"
   ]
  },
  {
   "cell_type": "markdown",
   "metadata": {},
   "source": [
    "### 33. Write a Python program to sum of three given integers. However, if two values are equal sum will be zero."
   ]
  },
  {
   "cell_type": "code",
   "execution_count": 228,
   "metadata": {},
   "outputs": [
    {
     "name": "stdout",
     "output_type": "stream",
     "text": [
      "13\n",
      "0\n"
     ]
    }
   ],
   "source": [
    "def sum3(x,y,z):\n",
    "    if x==y or y==z or x==z:\n",
    "        return 0\n",
    "    else:\n",
    "        return x+y+z\n",
    "print(sum3(2,4,7))\n",
    "print(sum3(2,4,2))"
   ]
  },
  {
   "cell_type": "markdown",
   "metadata": {},
   "source": [
    "### 34. Write a Python program to sum of two given integers. However, if the sum is between 15 to 20 it will return 20."
   ]
  },
  {
   "cell_type": "code",
   "execution_count": 231,
   "metadata": {},
   "outputs": [
    {
     "name": "stdout",
     "output_type": "stream",
     "text": [
      "6\n",
      "20\n"
     ]
    }
   ],
   "source": [
    "def sum2(x,y):\n",
    "    s=x+y\n",
    "    if s in range(15, 20):\n",
    "        return 20\n",
    "    else:\n",
    "        return s\n",
    "print(sum2(2,4))\n",
    "print(sum2(12,5))"
   ]
  },
  {
   "cell_type": "markdown",
   "metadata": {},
   "source": [
    "### 35. Write a Python program that will return true if the two given integer values are equal or their sum or difference is 5."
   ]
  },
  {
   "cell_type": "code",
   "execution_count": 237,
   "metadata": {},
   "outputs": [
    {
     "name": "stdout",
     "output_type": "stream",
     "text": [
      "True\n",
      "True\n",
      "True\n",
      "False\n"
     ]
    }
   ],
   "source": [
    "def num2(x,y):\n",
    "    if x==y or (x+y)==5 or abs((x-y))==5:\n",
    "        return True\n",
    "    else:\n",
    "        return False\n",
    "print(num2(1,4))\n",
    "print(num2(12,7))\n",
    "print(num2(12,12))\n",
    "print(num2(62,7))"
   ]
  },
  {
   "cell_type": "markdown",
   "metadata": {},
   "source": [
    "### 36. Write a Python program to add two objects if both objects are an integer type."
   ]
  },
  {
   "cell_type": "code",
   "execution_count": 244,
   "metadata": {},
   "outputs": [
    {
     "name": "stdout",
     "output_type": "stream",
     "text": [
      "19\n"
     ]
    }
   ],
   "source": [
    "def check_int(x,y):\n",
    "    if not (isinstance(x, int) and isinstance(y, int)):\n",
    "         raise TypeError(\"Inputs must be integers\")\n",
    "    return x + y\n",
    "\n",
    "print(check_int(12,7))\n"
   ]
  },
  {
   "cell_type": "markdown",
   "metadata": {},
   "source": [
    "### 37. Write a Python program to display your details like name, age, address in three different lines."
   ]
  },
  {
   "cell_type": "code",
   "execution_count": 250,
   "metadata": {},
   "outputs": [
    {
     "name": "stdout",
     "output_type": "stream",
     "text": [
      "Name:Ravi\n",
      "Age:29\n",
      "Address:H.No.-22,Palam Vihar,Mumbai\n"
     ]
    }
   ],
   "source": [
    "def details(x,y,z):\n",
    "    print('Name:%s\\nAge:%d\\nAddress:%s'%(x,y,z))\n",
    "details('Ravi',29,'H.No.-22,Palam Vihar,Mumbai')\n"
   ]
  },
  {
   "cell_type": "markdown",
   "metadata": {},
   "source": [
    "### 38. Write a Python program to solve (x + y) * (x + y). \n",
    "Test Data : x = 4, y = 3 <br>\n",
    "Expected Output : (4 + 3) ^ 2) = 49"
   ]
  },
  {
   "cell_type": "code",
   "execution_count": 255,
   "metadata": {},
   "outputs": [
    {
     "name": "stdout",
     "output_type": "stream",
     "text": [
      "Enter the first no.: 1\n",
      "Enter the second no.: 2\n",
      "(x+y)*(x+y):9\n",
      "(1 + 2) ^ 2) = 9\n"
     ]
    }
   ],
   "source": [
    "x=int(input('Enter the first no.: '))\n",
    "y = int(input('Enter the second no.: '))\n",
    "print('(x+y)*(x+y):%d'%((x+y)*(x+y)))\n",
    "\n",
    "#another approach\n",
    "result=(x+y)*(x+y)\n",
    "print(\"({} + {}) ^ 2) = {}\".format(x, y, result))"
   ]
  },
  {
   "cell_type": "markdown",
   "metadata": {},
   "source": [
    "### 39. Write a Python program to compute the future value of a specified principal amount, rate of interest, and a number of years.\n",
    "Test Data : amt = 10000, int = 3.5, years = 7 <br>\n",
    "Expected Output : 12722.79"
   ]
  },
  {
   "cell_type": "code",
   "execution_count": 263,
   "metadata": {},
   "outputs": [
    {
     "name": "stdout",
     "output_type": "stream",
     "text": [
      "12722.792627665729\n"
     ]
    }
   ],
   "source": [
    "def value(amt,roi,yrs):\n",
    "    return (amt*((1+(0.01*roi)) ** yrs))\n",
    "print((value(10000,3.5,7)))"
   ]
  },
  {
   "cell_type": "markdown",
   "metadata": {},
   "source": [
    "### 40. Write a Python program to compute the distance between the points (x1, y1) and (x2, y2)."
   ]
  },
  {
   "cell_type": "code",
   "execution_count": 266,
   "metadata": {},
   "outputs": [
    {
     "data": {
      "text/plain": [
       "6.324555320336759"
      ]
     },
     "execution_count": 266,
     "metadata": {},
     "output_type": "execute_result"
    }
   ],
   "source": [
    "import math\n",
    "def dist(x1,y1,x2,y2):\n",
    "    return math.sqrt((x2-x1)**2+(y2-y1)**2)\n",
    "dist(6,6,4,0)"
   ]
  },
  {
   "cell_type": "markdown",
   "metadata": {},
   "source": [
    "### 41. Write a Python program to check whether a file exists."
   ]
  },
  {
   "cell_type": "code",
   "execution_count": 268,
   "metadata": {},
   "outputs": [
    {
     "name": "stdout",
     "output_type": "stream",
     "text": [
      "True\n"
     ]
    }
   ],
   "source": [
    "import os.path\n",
    "open('myfile.txt', 'w')\n",
    "print(os.path.isfile('myfile.txt'))"
   ]
  },
  {
   "cell_type": "markdown",
   "metadata": {},
   "source": [
    "### 42. Write a Python program to determine if a Python shell is executing in 32bit or 64bit mode on OS."
   ]
  },
  {
   "cell_type": "code",
   "execution_count": 269,
   "metadata": {},
   "outputs": [
    {
     "name": "stdout",
     "output_type": "stream",
     "text": [
      "64\n"
     ]
    }
   ],
   "source": [
    "import struct\n",
    "print(struct.calcsize(\"P\") * 8)"
   ]
  },
  {
   "cell_type": "markdown",
   "metadata": {},
   "source": [
    "### 43. Write a Python program to get OS name, platform and release information."
   ]
  },
  {
   "cell_type": "code",
   "execution_count": 270,
   "metadata": {},
   "outputs": [
    {
     "name": "stdout",
     "output_type": "stream",
     "text": [
      "posix\n",
      "Linux\n",
      "4.15.0-106-generic\n"
     ]
    }
   ],
   "source": [
    "import platform\n",
    "import os\n",
    "print(os.name)\n",
    "print(platform.system())\n",
    "print(platform.release())"
   ]
  },
  {
   "cell_type": "markdown",
   "metadata": {},
   "source": [
    "### 44. Write a Python program to locate Python site-packages."
   ]
  },
  {
   "cell_type": "code",
   "execution_count": 271,
   "metadata": {},
   "outputs": [
    {
     "name": "stdout",
     "output_type": "stream",
     "text": [
      "['/home/rajat/anaconda3/lib/python3.6/site-packages']\n"
     ]
    }
   ],
   "source": [
    "import site; \n",
    "print(site.getsitepackages())"
   ]
  },
  {
   "cell_type": "markdown",
   "metadata": {},
   "source": [
    "### 45. Write a python program to call an external command in Python. "
   ]
  },
  {
   "cell_type": "code",
   "execution_count": 277,
   "metadata": {},
   "outputs": [
    {
     "data": {
      "text/plain": [
       "0"
      ]
     },
     "execution_count": 277,
     "metadata": {},
     "output_type": "execute_result"
    }
   ],
   "source": [
    "from subprocess import call\n",
    "call([\"ls\", \"-lrt\"])"
   ]
  },
  {
   "cell_type": "markdown",
   "metadata": {},
   "source": [
    "### 46. Write a python program to get the path and name of the file that is currently executing."
   ]
  },
  {
   "cell_type": "code",
   "execution_count": 273,
   "metadata": {},
   "outputs": [
    {
     "ename": "NameError",
     "evalue": "name '__file__' is not defined",
     "output_type": "error",
     "traceback": [
      "\u001b[0;31m---------------------------------------------------------------------------\u001b[0m",
      "\u001b[0;31mNameError\u001b[0m                                 Traceback (most recent call last)",
      "\u001b[0;32m<ipython-input-273-76e7fb529489>\u001b[0m in \u001b[0;36m<module>\u001b[0;34m\u001b[0m\n\u001b[1;32m      1\u001b[0m \u001b[0;32mimport\u001b[0m \u001b[0mos\u001b[0m\u001b[0;34m\u001b[0m\u001b[0;34m\u001b[0m\u001b[0m\n\u001b[0;32m----> 2\u001b[0;31m \u001b[0mprint\u001b[0m\u001b[0;34m(\u001b[0m\u001b[0;34m\"Current File Name : \"\u001b[0m\u001b[0;34m,\u001b[0m\u001b[0mos\u001b[0m\u001b[0;34m.\u001b[0m\u001b[0mpath\u001b[0m\u001b[0;34m.\u001b[0m\u001b[0mrealpath\u001b[0m\u001b[0;34m(\u001b[0m\u001b[0m__file__\u001b[0m\u001b[0;34m)\u001b[0m\u001b[0;34m)\u001b[0m\u001b[0;34m\u001b[0m\u001b[0;34m\u001b[0m\u001b[0m\n\u001b[0m",
      "\u001b[0;31mNameError\u001b[0m: name '__file__' is not defined"
     ]
    }
   ],
   "source": [
    "import os\n",
    "print(\"Current File Name : \",os.path.realpath(__file__))"
   ]
  },
  {
   "cell_type": "markdown",
   "metadata": {},
   "source": [
    "### 47. Write a Python program to find out the number of CPUs using. "
   ]
  },
  {
   "cell_type": "code",
   "execution_count": 278,
   "metadata": {},
   "outputs": [
    {
     "name": "stdout",
     "output_type": "stream",
     "text": [
      "8\n"
     ]
    }
   ],
   "source": [
    "import multiprocessing\n",
    "print(multiprocessing.cpu_count())"
   ]
  },
  {
   "cell_type": "markdown",
   "metadata": {},
   "source": [
    "### 48. Write a Python program to parse a string to Float or Integer."
   ]
  },
  {
   "cell_type": "code",
   "execution_count": 281,
   "metadata": {},
   "outputs": [
    {
     "name": "stdout",
     "output_type": "stream",
     "text": [
      "675.97508\n",
      "675\n"
     ]
    }
   ],
   "source": [
    "n = \"675.97508\"\n",
    "print(float(n))\n",
    "print(int(float(n)))\n"
   ]
  },
  {
   "cell_type": "markdown",
   "metadata": {},
   "source": [
    "### 49. Write a Python program to list all files in a directory in Python."
   ]
  },
  {
   "cell_type": "code",
   "execution_count": 2,
   "metadata": {},
   "outputs": [
    {
     "name": "stdout",
     "output_type": "stream",
     "text": [
      "['Basic Python Exercise.ipynb', 'myfile.txt']\n"
     ]
    }
   ],
   "source": [
    "from os import listdir\n",
    "from os.path import isfile, join\n",
    "files_list = [f for f in listdir('/home/rajat/kokila/pythontutorial/pythonLearning/pythonExercise') if isfile(join('/home/rajat/kokila/pythontutorial/pythonLearning/pythonExercise', f))]\n",
    "print(files_list);"
   ]
  },
  {
   "cell_type": "markdown",
   "metadata": {},
   "source": [
    " ### 50. Write a Python program to print without newline or space."
   ]
  },
  {
   "cell_type": "code",
   "execution_count": 294,
   "metadata": {},
   "outputs": [
    {
     "name": "stdout",
     "output_type": "stream",
     "text": [
      "**********\n",
      "\n"
     ]
    }
   ],
   "source": [
    "for i in range(0, 10):\n",
    "    print('*', end=\"\")\n",
    "print(\"\\n\")"
   ]
  },
  {
   "cell_type": "markdown",
   "metadata": {},
   "source": [
    "### 51. Write a Python program to determine profiling of Python programs. \n",
    "Note: A profile is a set of statistics that describes how often and for how long various parts of the program executed. These statistics can be formatted into reports via the pstats module. "
   ]
  },
  {
   "cell_type": "code",
   "execution_count": 295,
   "metadata": {},
   "outputs": [
    {
     "name": "stdout",
     "output_type": "stream",
     "text": [
      "3\n",
      "         39 function calls in 0.000 seconds\n",
      "\n",
      "   Ordered by: standard name\n",
      "\n",
      "   ncalls  tottime  percall  cumtime  percall filename:lineno(function)\n",
      "        1    0.000    0.000    0.000    0.000 <ipython-input-295-db52c97772c7>:2(sum)\n",
      "        1    0.000    0.000    0.000    0.000 <string>:1(<module>)\n",
      "        3    0.000    0.000    0.000    0.000 iostream.py:197(schedule)\n",
      "        2    0.000    0.000    0.000    0.000 iostream.py:309(_is_master_process)\n",
      "        2    0.000    0.000    0.000    0.000 iostream.py:322(_schedule_flush)\n",
      "        2    0.000    0.000    0.000    0.000 iostream.py:384(write)\n",
      "        3    0.000    0.000    0.000    0.000 iostream.py:93(_event_pipe)\n",
      "        3    0.000    0.000    0.000    0.000 socket.py:342(send)\n",
      "        3    0.000    0.000    0.000    0.000 threading.py:1062(_wait_for_tstate_lock)\n",
      "        3    0.000    0.000    0.000    0.000 threading.py:1104(is_alive)\n",
      "        3    0.000    0.000    0.000    0.000 threading.py:506(is_set)\n",
      "        1    0.000    0.000    0.000    0.000 {built-in method builtins.exec}\n",
      "        2    0.000    0.000    0.000    0.000 {built-in method builtins.isinstance}\n",
      "        1    0.000    0.000    0.000    0.000 {built-in method builtins.print}\n",
      "        2    0.000    0.000    0.000    0.000 {built-in method posix.getpid}\n",
      "        3    0.000    0.000    0.000    0.000 {method 'acquire' of '_thread.lock' objects}\n",
      "        3    0.000    0.000    0.000    0.000 {method 'append' of 'collections.deque' objects}\n",
      "        1    0.000    0.000    0.000    0.000 {method 'disable' of '_lsprof.Profiler' objects}\n",
      "\n",
      "\n"
     ]
    }
   ],
   "source": [
    "import cProfile\n",
    "def sum():\n",
    "    print(1+2)\n",
    "cProfile.run('sum()')\n"
   ]
  },
  {
   "cell_type": "markdown",
   "metadata": {},
   "source": [
    "### 52. Write a Python program to print to stderr. "
   ]
  },
  {
   "cell_type": "code",
   "execution_count": 296,
   "metadata": {},
   "outputs": [
    {
     "name": "stderr",
     "output_type": "stream",
     "text": [
      "abc--efg--xyz\n"
     ]
    }
   ],
   "source": [
    "from __future__ import print_function\n",
    "import sys\n",
    "\n",
    "def eprint(*args, **kwargs):\n",
    "    print(*args, file=sys.stderr, **kwargs)\n",
    "\n",
    "eprint(\"abc\", \"efg\", \"xyz\", sep=\"--\")\n"
   ]
  },
  {
   "cell_type": "markdown",
   "metadata": {},
   "source": [
    "### 53. Write a python program to access environment variables."
   ]
  },
  {
   "cell_type": "code",
   "execution_count": 297,
   "metadata": {},
   "outputs": [
    {
     "name": "stdout",
     "output_type": "stream",
     "text": [
      "*----------------------------------*\n",
      "environ({'CLUTTER_IM_MODULE': 'xim', 'LS_COLORS': 'rs=0:di=01;34:ln=01;36:mh=00:pi=40;33:so=01;35:do=01;35:bd=40;33;01:cd=40;33;01:or=40;31;01:mi=00:su=37;41:sg=30;43:ca=30;41:tw=30;42:ow=34;42:st=37;44:ex=01;32:*.tar=01;31:*.tgz=01;31:*.arc=01;31:*.arj=01;31:*.taz=01;31:*.lha=01;31:*.lz4=01;31:*.lzh=01;31:*.lzma=01;31:*.tlz=01;31:*.txz=01;31:*.tzo=01;31:*.t7z=01;31:*.zip=01;31:*.z=01;31:*.Z=01;31:*.dz=01;31:*.gz=01;31:*.lrz=01;31:*.lz=01;31:*.lzo=01;31:*.xz=01;31:*.zst=01;31:*.tzst=01;31:*.bz2=01;31:*.bz=01;31:*.tbz=01;31:*.tbz2=01;31:*.tz=01;31:*.deb=01;31:*.rpm=01;31:*.jar=01;31:*.war=01;31:*.ear=01;31:*.sar=01;31:*.rar=01;31:*.alz=01;31:*.ace=01;31:*.zoo=01;31:*.cpio=01;31:*.7z=01;31:*.rz=01;31:*.cab=01;31:*.wim=01;31:*.swm=01;31:*.dwm=01;31:*.esd=01;31:*.jpg=01;35:*.jpeg=01;35:*.mjpg=01;35:*.mjpeg=01;35:*.gif=01;35:*.bmp=01;35:*.pbm=01;35:*.pgm=01;35:*.ppm=01;35:*.tga=01;35:*.xbm=01;35:*.xpm=01;35:*.tif=01;35:*.tiff=01;35:*.png=01;35:*.svg=01;35:*.svgz=01;35:*.mng=01;35:*.pcx=01;35:*.mov=01;35:*.mpg=01;35:*.mpeg=01;35:*.m2v=01;35:*.mkv=01;35:*.webm=01;35:*.ogm=01;35:*.mp4=01;35:*.m4v=01;35:*.mp4v=01;35:*.vob=01;35:*.qt=01;35:*.nuv=01;35:*.wmv=01;35:*.asf=01;35:*.rm=01;35:*.rmvb=01;35:*.flc=01;35:*.avi=01;35:*.fli=01;35:*.flv=01;35:*.gl=01;35:*.dl=01;35:*.xcf=01;35:*.xwd=01;35:*.yuv=01;35:*.cgm=01;35:*.emf=01;35:*.ogv=01;35:*.ogx=01;35:*.aac=00;36:*.au=00;36:*.flac=00;36:*.m4a=00;36:*.mid=00;36:*.midi=00;36:*.mka=00;36:*.mp3=00;36:*.mpc=00;36:*.ogg=00;36:*.ra=00;36:*.wav=00;36:*.oga=00;36:*.opus=00;36:*.spx=00;36:*.xspf=00;36:', 'LC_MEASUREMENT': 'de_DE.UTF-8', 'LESSCLOSE': '/usr/bin/lesspipe %s %s', 'LC_PAPER': 'de_DE.UTF-8', 'LC_MONETARY': 'de_DE.UTF-8', 'XDG_MENU_PREFIX': 'gnome-', 'LANG': 'en_US.UTF-8', 'MANAGERPID': '2415', 'DISPLAY': ':1', 'INVOCATION_ID': '92563c9241084ad889c2a1140740c2f9', 'GNOME_SHELL_SESSION_MODE': 'ubuntu', 'COLORTERM': 'truecolor', 'USERNAME': 'rajat', 'JAVA_HOME': '/usr/lib/jvm/java-8-oracle', 'J2SDKDIR': '/usr/lib/jvm/java-8-oracle', 'XDG_VTNR': '2', 'SSH_AUTH_SOCK': '/run/user/1000/keyring/ssh', 'MANDATORY_PATH': '/usr/share/gconf/ubuntu.mandatory.path', 'LC_NAME': 'de_DE.UTF-8', 'XDG_SESSION_ID': '2', 'DERBY_HOME': '/usr/lib/jvm/java-8-oracle/db', 'USER': 'rajat', 'DESKTOP_SESSION': 'ubuntu', 'QT4_IM_MODULE': 'xim', 'TEXTDOMAINDIR': '/usr/share/locale/', 'GNOME_TERMINAL_SCREEN': '/org/gnome/Terminal/screen/ccfa4a61_5d3a_4a94_b8dc_6bd59dca1ae6', 'DEFAULTS_PATH': '/usr/share/gconf/ubuntu.default.path', 'PWD': '/home/rajat/kokila/pythontutorial/pythonLearning', 'HOME': '/home/rajat', 'JOURNAL_STREAM': '9:37276', 'TEXTDOMAIN': 'im-config', 'J2REDIR': '/usr/lib/jvm/java-8-oracle/jre', 'SSH_AGENT_PID': '2569', 'QT_ACCESSIBILITY': '1', 'XDG_SESSION_TYPE': 'x11', 'XDG_DATA_DIRS': '/usr/share/ubuntu:/usr/local/share:/usr/share:/var/lib/snapd/desktop', 'XDG_SESSION_DESKTOP': 'ubuntu', 'LC_ADDRESS': 'de_DE.UTF-8', 'SPARK_HOME': '/usr/lib/spark', 'DBUS_STARTER_ADDRESS': 'unix:path=/run/user/1000/bus,guid=6bcc53ee4817b1169e24fa555eefaf17', 'LC_NUMERIC': 'de_DE.UTF-8', 'GTK_MODULES': 'gail:atk-bridge', 'WINDOWPATH': '2', 'TERM': 'xterm-color', 'VTE_VERSION': '5202', 'SHELL': '/bin/bash', 'QT_IM_MODULE': 'xim', 'XMODIFIERS': '@im=ibus', 'IM_CONFIG_PHASE': '2', 'DBUS_STARTER_BUS_TYPE': 'session', 'XDG_CURRENT_DESKTOP': 'ubuntu:GNOME', 'GPG_AGENT_INFO': '/run/user/1000/gnupg/S.gpg-agent:0:1', 'GNOME_TERMINAL_SERVICE': ':1.80', 'SHLVL': '1', 'XDG_SEAT': 'seat0', 'PYTHONPATH': '/usr/lib/spark/python:', 'LC_TELEPHONE': 'de_DE.UTF-8', 'GDMSESSION': 'ubuntu', 'GNOME_DESKTOP_SESSION_ID': 'this-is-deprecated', 'LOGNAME': 'rajat', 'DBUS_SESSION_BUS_ADDRESS': 'unix:path=/run/user/1000/bus,guid=6bcc53ee4817b1169e24fa555eefaf17', 'XDG_RUNTIME_DIR': '/run/user/1000', 'XAUTHORITY': '/run/user/1000/gdm/Xauthority', 'PYSPARK_PYTHON': '/home/rajat/anaconda3/bin/python', 'XDG_CONFIG_DIRS': '/etc/xdg/xdg-ubuntu:/etc/xdg', 'PATH': '/home/rajat/anaconda3/bin:/home/rajat/.local/bin:/usr/local/sbin:/usr/local/bin:/usr/sbin:/usr/bin:/sbin:/bin:/usr/games:/usr/local/games:/snap/bin:/usr/lib/jvm/java-8-oracle/bin:/usr/lib/jvm/java-8-oracle/db/bin:/usr/lib/jvm/java-8-oracle/jre/bin:/usr/lib/jvm/java-8-oracle/bin:/usr/lib/spark/bin:/usr/lib/spark/sbin', 'LC_IDENTIFICATION': 'de_DE.UTF-8', 'SESSION_MANAGER': 'local/legion:@/tmp/.ICE-unix/2464,unix/legion:/tmp/.ICE-unix/2464', 'LESSOPEN': '| /usr/bin/lesspipe %s', 'GTK_IM_MODULE': 'ibus', 'LC_TIME': 'de_DE.UTF-8', '_': '/home/rajat/anaconda3/bin/jupyter-notebook', 'KERNEL_LAUNCH_TIMEOUT': '40', 'JPY_PARENT_PID': '20635', 'CLICOLOR': '1', 'PAGER': 'cat', 'GIT_PAGER': 'cat', 'MPLBACKEND': 'module://ipykernel.pylab.backend_inline'})\n",
      "*----------------------------------*\n",
      "/home/rajat\n",
      "*----------------------------------*\n",
      "/home/rajat/anaconda3/bin:/home/rajat/.local/bin:/usr/local/sbin:/usr/local/bin:/usr/sbin:/usr/bin:/sbin:/bin:/usr/games:/usr/local/games:/snap/bin:/usr/lib/jvm/java-8-oracle/bin:/usr/lib/jvm/java-8-oracle/db/bin:/usr/lib/jvm/java-8-oracle/jre/bin:/usr/lib/jvm/java-8-oracle/bin:/usr/lib/spark/bin:/usr/lib/spark/sbin\n",
      "*----------------------------------*\n"
     ]
    }
   ],
   "source": [
    "import os\n",
    "# Access all environment variables \n",
    "print('*----------------------------------*')\n",
    "print(os.environ)\n",
    "print('*----------------------------------*')\n",
    "# Access a particular environment variable \n",
    "print(os.environ['HOME'])\n",
    "print('*----------------------------------*')\n",
    "print(os.environ['PATH'])\n",
    "print('*----------------------------------*')"
   ]
  },
  {
   "cell_type": "markdown",
   "metadata": {},
   "source": [
    "### 54. Write a Python program to get the current username"
   ]
  },
  {
   "cell_type": "code",
   "execution_count": 298,
   "metadata": {},
   "outputs": [
    {
     "name": "stdout",
     "output_type": "stream",
     "text": [
      "rajat\n"
     ]
    }
   ],
   "source": [
    "import getpass\n",
    "print(getpass.getuser())"
   ]
  },
  {
   "cell_type": "markdown",
   "metadata": {},
   "source": [
    "### 55. Write a Python to find local IP addresses using Python's stdlib"
   ]
  },
  {
   "cell_type": "code",
   "execution_count": 300,
   "metadata": {},
   "outputs": [
    {
     "name": "stdout",
     "output_type": "stream",
     "text": [
      "192.168.0.130\n"
     ]
    }
   ],
   "source": [
    "import socket\n",
    "print([l for l in ([ip for ip in socket.gethostbyname_ex(socket.gethostname())[2] \n",
    "if not ip.startswith(\"127.\")][:1], [[(s.connect(('8.8.8.8', 53)), \n",
    "s.getsockname()[0], s.close()) for s in [socket.socket(socket.AF_INET, \n",
    "socket.SOCK_DGRAM)]][0][1]]) if l][0][0])\n"
   ]
  },
  {
   "cell_type": "markdown",
   "metadata": {},
   "source": [
    "### 56. Write a Python program to get height and width of the console window."
   ]
  },
  {
   "cell_type": "code",
   "execution_count": 312,
   "metadata": {},
   "outputs": [
    {
     "name": "stdout",
     "output_type": "stream",
     "text": [
      "os.terminal_size(columns=80, lines=24)\n"
     ]
    }
   ],
   "source": [
    "import os \n",
    "size = os.get_terminal_size() \n",
    "print(size) "
   ]
  },
  {
   "cell_type": "markdown",
   "metadata": {},
   "source": [
    "### 57. Write a program to get execution time for a Python method."
   ]
  },
  {
   "cell_type": "code",
   "execution_count": 313,
   "metadata": {},
   "outputs": [
    {
     "name": "stdout",
     "output_type": "stream",
     "text": [
      "\n",
      "Time to sum of 1 to  5  and required time to calculate is : (15, 4.291534423828125e-06)\n"
     ]
    }
   ],
   "source": [
    "import time\n",
    "def sum_of_n_numbers(n):\n",
    "    start_time = time.time()\n",
    "    s = 0\n",
    "    for i in range(1,n+1):\n",
    "        s = s + i\n",
    "    end_time = time.time()\n",
    "    return s,end_time-start_time\n",
    "\n",
    "n = 5\n",
    "print(\"\\nTime to sum of 1 to \",n,\" and required time to calculate is :\",sum_of_n_numbers(n))"
   ]
  },
  {
   "cell_type": "markdown",
   "metadata": {},
   "source": [
    "### 58. Write a python program to find the sum of the first n positive integers. "
   ]
  },
  {
   "cell_type": "code",
   "execution_count": 314,
   "metadata": {},
   "outputs": [
    {
     "name": "stdout",
     "output_type": "stream",
     "text": [
      "Input a number: 6\n",
      "21.0\n"
     ]
    }
   ],
   "source": [
    "n = int(input(\"Input a number: \"))\n",
    "sum_num = (n * (n + 1)) / 2\n",
    "print(sum_num)"
   ]
  },
  {
   "cell_type": "markdown",
   "metadata": {},
   "source": [
    "###  59. Write a Python program to convert height (in feet and inches) to centimeters."
   ]
  },
  {
   "cell_type": "code",
   "execution_count": 316,
   "metadata": {},
   "outputs": [
    {
     "name": "stdout",
     "output_type": "stream",
     "text": [
      "Enter your height:\n",
      "Feet: 5\n",
      "Inches: 3\n",
      "Your height is : 160 cm.\n"
     ]
    }
   ],
   "source": [
    "print('Enter your height:')\n",
    "ft = int(input(\"Feet: \"))\n",
    "inch = int(input(\"Inches: \"))\n",
    "tot=inch+(ft*12)\n",
    "print(\"Your height is : %d cm.\" % (tot*2.54))"
   ]
  },
  {
   "cell_type": "markdown",
   "metadata": {},
   "source": [
    "### 60. Write a Python program to calculate the hypotenuse of a right angled triangle."
   ]
  },
  {
   "cell_type": "code",
   "execution_count": 317,
   "metadata": {},
   "outputs": [
    {
     "name": "stdout",
     "output_type": "stream",
     "text": [
      "Input lengths of shorter triangle sides:\n",
      "a: 3\n",
      "b: 4\n",
      "The length of the hypotenuse is 5.0\n"
     ]
    }
   ],
   "source": [
    "from math import sqrt\n",
    "print(\"Input lengths of shorter triangle sides:\")\n",
    "a = float(input(\"a: \"))\n",
    "b = float(input(\"b: \"))\n",
    "c = sqrt(a**2 + b**2)\n",
    "print(\"The length of the hypotenuse is\", c )"
   ]
  },
  {
   "cell_type": "markdown",
   "metadata": {},
   "source": [
    "### 61. Write a Python program to convert the distance (in feet) to inches, yards, and miles."
   ]
  },
  {
   "cell_type": "code",
   "execution_count": 318,
   "metadata": {},
   "outputs": [
    {
     "name": "stdout",
     "output_type": "stream",
     "text": [
      "Input distance in feet: 5\n",
      "The distance in inches is 60 inches.\n",
      "The distance in yards is 1.67 yards.\n",
      "The distance in miles is 0.00 miles.\n"
     ]
    }
   ],
   "source": [
    "d_ft = int(input(\"Input distance in feet: \"))\n",
    "d_inches = d_ft * 12\n",
    "d_yards = d_ft / 3.0\n",
    "d_miles = d_ft / 5280.0\n",
    "\n",
    "print(\"The distance in inches is %i inches.\" % d_inches)\n",
    "print(\"The distance in yards is %.2f yards.\" % d_yards)\n",
    "print(\"The distance in miles is %.2f miles.\" % d_miles)\n"
   ]
  },
  {
   "cell_type": "markdown",
   "metadata": {},
   "source": [
    "### 62. Write a Python program to convert all units of time into seconds."
   ]
  },
  {
   "cell_type": "code",
   "execution_count": 319,
   "metadata": {},
   "outputs": [
    {
     "name": "stdout",
     "output_type": "stream",
     "text": [
      "Input days: 3\n",
      "Input hours: 2\n",
      "Input minutes: 30\n",
      "Input seconds: 10\n",
      "The  amounts of seconds 268210\n"
     ]
    }
   ],
   "source": [
    "days = int(input(\"Input days: \")) * 3600 * 24\n",
    "hours = int(input(\"Input hours: \")) * 3600\n",
    "minutes = int(input(\"Input minutes: \")) * 60\n",
    "seconds = int(input(\"Input seconds: \"))\n",
    "\n",
    "time = days + hours + minutes + seconds\n",
    "\n",
    "print(\"The  amounts of seconds\", time)\n"
   ]
  },
  {
   "cell_type": "markdown",
   "metadata": {},
   "source": [
    "### 63. Write a Python program to get an absolute file path."
   ]
  },
  {
   "cell_type": "code",
   "execution_count": 3,
   "metadata": {},
   "outputs": [
    {
     "name": "stdout",
     "output_type": "stream",
     "text": [
      "Absolute file path:  /home/rajat/kokila/pythontutorial/pythonLearning/pythonExercise/test.txt\n"
     ]
    }
   ],
   "source": [
    "def absolute_file_path(path_fname):\n",
    "        import os\n",
    "        return os.path.abspath(path_fname)        \n",
    "print(\"Absolute file path: \",absolute_file_path(\"test.txt\"))\n"
   ]
  },
  {
   "cell_type": "markdown",
   "metadata": {},
   "source": [
    "### 64. Write a Python program to get file creation and modification date/times."
   ]
  },
  {
   "cell_type": "code",
   "execution_count": 5,
   "metadata": {},
   "outputs": [
    {
     "name": "stdout",
     "output_type": "stream",
     "text": [
      "Last modified: Tue Jun 30 15:22:15 2020\n",
      "Created: Tue Jun 30 15:22:15 2020\n"
     ]
    }
   ],
   "source": [
    "\n",
    "import os.path, time\n",
    "pwd=absolute_file_path(\"myfile.txt\")\n",
    "print(\"Last modified: %s\" % time.ctime(os.path.getmtime(pwd)))\n",
    "print(\"Created: %s\" % time.ctime(os.path.getctime(pwd)))"
   ]
  },
  {
   "cell_type": "markdown",
   "metadata": {},
   "source": [
    "### 65. Write a Python program to convert seconds to day, hour, minutes and seconds."
   ]
  },
  {
   "cell_type": "code",
   "execution_count": 9,
   "metadata": {},
   "outputs": [
    {
     "name": "stdout",
     "output_type": "stream",
     "text": [
      "Enter the seconds:1234565\n",
      "14 days 6 hours 56 minutes and 5 seconds\n"
     ]
    }
   ],
   "source": [
    "time=int(input('Enter the seconds:'))\n",
    "day=time/(24*3600)\n",
    "time=time%(24*3600)\n",
    "hour=time/3600\n",
    "time=time%3600\n",
    "minute=time/60\n",
    "time=time%60\n",
    "sec=time\n",
    "print('%d days %d hours %d minutes and %d seconds'%(day,hour,minute,sec))"
   ]
  },
  {
   "cell_type": "markdown",
   "metadata": {},
   "source": [
    "### 66. Write a Python program to calculate body mass index. "
   ]
  },
  {
   "cell_type": "code",
   "execution_count": 12,
   "metadata": {},
   "outputs": [
    {
     "name": "stdout",
     "output_type": "stream",
     "text": [
      "Input your height in meters: 5.8\n",
      "Input your weight in kilogram: 85\n",
      "Your body mass index is:  2.53\n"
     ]
    }
   ],
   "source": [
    "height = float(input(\"Input your height in meters: \"))\n",
    "weight = float(input(\"Input your weight in kilogram: \"))\n",
    "print(\"Your body mass index is: \", round(weight / (height **2),2))"
   ]
  },
  {
   "cell_type": "markdown",
   "metadata": {},
   "source": [
    "### 67. Write a Python program to convert pressure in kilopascals to pounds per square inch, a millimeter of mercury (mmHg) and atmosphere pressure."
   ]
  },
  {
   "cell_type": "code",
   "execution_count": 15,
   "metadata": {},
   "outputs": [
    {
     "name": "stdout",
     "output_type": "stream",
     "text": [
      "Input pressure in in kilopascals12.35\n",
      "Pressure in pounds per square inch or psi is: 1.79\n",
      "Pressure in millimeter of mercury or mmHg is: 92.63\n",
      "Pressure in atmosphere pressure is: 0.12\n"
     ]
    }
   ],
   "source": [
    "kpa = float(input(\"Input pressure in in kilopascals\"))\n",
    "psi = kpa / 6.89475729\n",
    "mmhg = kpa * 760 / 101.325\n",
    "atm = kpa / 101.325\n",
    "print('Pressure in pounds per square inch or psi is: %.2f'%psi)\n",
    "print('Pressure in millimeter of mercury or mmHg is: %.2f'%mmhg)\n",
    "print('Pressure in atmosphere pressure is: %.2f'%atm)"
   ]
  },
  {
   "cell_type": "markdown",
   "metadata": {},
   "source": [
    "### 68. Write a Python program to calculate the sum of the digits in an integer."
   ]
  },
  {
   "cell_type": "code",
   "execution_count": 17,
   "metadata": {},
   "outputs": [
    {
     "name": "stdout",
     "output_type": "stream",
     "text": [
      "Enter an integer: 235\n",
      "10\n"
     ]
    }
   ],
   "source": [
    "def sum_digits(n):\n",
    "    sum=0\n",
    "    for i in str(n)[:]:\n",
    "        sum =sum+int(i)\n",
    "    return sum\n",
    "n=int(input('Enter an integer: '))\n",
    "print(sum_digits(n))"
   ]
  },
  {
   "cell_type": "markdown",
   "metadata": {},
   "source": [
    "### 69. Write a Python program to sort three integers without using conditional statements and loops."
   ]
  },
  {
   "cell_type": "code",
   "execution_count": 34,
   "metadata": {},
   "outputs": [
    {
     "name": "stdout",
     "output_type": "stream",
     "text": [
      "Enter first integer: 21\n",
      "Enter second integer: 9\n",
      "Enter third integer: 2\n",
      "Entered integers are: [21, 9, 2]\n",
      "Sorted integers are: [2, 9, 21]\n",
      "Numbers in sorted order:  2 9 21\n"
     ]
    }
   ],
   "source": [
    "x=int(input('Enter first integer: '))\n",
    "y=int(input('Enter second integer: '))\n",
    "z=int(input('Enter third integer: '))\n",
    "li=[x,y,z]\n",
    "print('Entered integers are:',li)\n",
    "print('Sorted integers are:',sorted(li))\n",
    "\n",
    "#another approach\n",
    "\n",
    "a1 = min(x, y, z)\n",
    "a3 = max(x, y, z)\n",
    "a2 = (x + y + z) - a1 - a3\n",
    "print(\"Numbers in sorted order: \", a1, a2, a3)"
   ]
  },
  {
   "cell_type": "markdown",
   "metadata": {},
   "source": [
    "### 70. Write a Python program to sort files by date."
   ]
  },
  {
   "cell_type": "code",
   "execution_count": 41,
   "metadata": {},
   "outputs": [
    {
     "name": "stdout",
     "output_type": "stream",
     "text": [
      "Basic Python Exercise.ipynb\n"
     ]
    }
   ],
   "source": [
    "import glob\n",
    "import os\n",
    "\n",
    "files = glob.glob(\"*.ipynb\")\n",
    "files.sort(key=os.path.getmtime)\n",
    "print(\"\\n\".join(files))\n"
   ]
  },
  {
   "cell_type": "markdown",
   "metadata": {},
   "source": [
    "### 71. Write a Python program to get a directory listing, sorted by creation date."
   ]
  },
  {
   "cell_type": "code",
   "execution_count": 42,
   "metadata": {},
   "outputs": [
    {
     "name": "stdout",
     "output_type": "stream",
     "text": [
      "Tue Jun 30 15:22:15 2020 myfile.txt\n",
      "Fri Jul  3 14:45:03 2020 Basic Python Exercise.ipynb\n"
     ]
    }
   ],
   "source": [
    "from stat import S_ISREG, ST_CTIME, ST_MODE\n",
    "import os, sys, time\n",
    "\n",
    "#Relative or absolute path to the directory\n",
    "dir_path = sys.argv[1] if len(sys.argv) == 2 else r'.'\n",
    "\n",
    "#all entries in the directory w/ stats\n",
    "data = (os.path.join(dir_path, fn) for fn in os.listdir(dir_path))\n",
    "data = ((os.stat(path), path) for path in data)\n",
    "\n",
    "# regular files, insert creation date\n",
    "data = ((stat[ST_CTIME], path)\n",
    "           for stat, path in data if S_ISREG(stat[ST_MODE]))\n",
    "\n",
    "for cdate, path in sorted(data):\n",
    "    print(time.ctime(cdate), os.path.basename(path))"
   ]
  },
  {
   "cell_type": "markdown",
   "metadata": {},
   "source": [
    "### 72. Write a Python program to get the details of math module."
   ]
  },
  {
   "cell_type": "code",
   "execution_count": 44,
   "metadata": {},
   "outputs": [
    {
     "name": "stdout",
     "output_type": "stream",
     "text": [
      "This module is always available.  It provides access to the\n",
      "mathematical functions defined by the C standard.\n",
      "['__doc__', '__file__', '__loader__', '__name__', '__package__', '__spec__', 'acos', 'acosh', 'asin', 'asinh', 'atan', 'atan2', 'atanh', 'ceil', 'copysign', 'cos', 'cosh', 'degrees', 'e', 'erf', 'erfc', 'exp', 'expm1', 'fabs', 'factorial', 'floor', 'fmod', 'frexp', 'fsum', 'gamma', 'gcd', 'hypot', 'inf', 'isclose', 'isfinite', 'isinf', 'isnan', 'ldexp', 'lgamma', 'log', 'log10', 'log1p', 'log2', 'modf', 'nan', 'pi', 'pow', 'radians', 'sin', 'sinh', 'sqrt', 'tan', 'tanh', 'tau', 'trunc']\n"
     ]
    }
   ],
   "source": [
    "import math\n",
    "print(math.__doc__)\n",
    "\n",
    "#another approach\n",
    "math_ls = dir(math) \n",
    "print(math_ls)"
   ]
  },
  {
   "cell_type": "markdown",
   "metadata": {},
   "source": [
    "### 73. Write a Python program to calculate midpoints of a line."
   ]
  },
  {
   "cell_type": "code",
   "execution_count": 45,
   "metadata": {},
   "outputs": [
    {
     "name": "stdout",
     "output_type": "stream",
     "text": [
      "Enter start points of the line:\n",
      "Enter x value:2\n",
      "Enter y value:2\n",
      "Enter end points of the line:\n",
      "Enter x value:4\n",
      "Enter y value:4\n",
      "Mid-point of the line: 3.00,3.00\n"
     ]
    }
   ],
   "source": [
    "print('Enter start points of the line:')\n",
    "x1=float(input('Enter x value:'))\n",
    "y1=float(input('Enter y value:'))\n",
    "print('Enter end points of the line:')\n",
    "x2=float(input('Enter x value:'))\n",
    "y2=float(input('Enter y value:'))\n",
    "x=(x1+x2)/2\n",
    "y=(y1+y2)/2\n",
    "print('Mid-point of the line: %.2f,%.2f'%(x,y))"
   ]
  },
  {
   "cell_type": "markdown",
   "metadata": {},
   "source": [
    "### 74. Write a Python program to hash a word."
   ]
  },
  {
   "cell_type": "code",
   "execution_count": 46,
   "metadata": {},
   "outputs": [
    {
     "name": "stdout",
     "output_type": "stream",
     "text": [
      "Input the word be hashed: hello\n",
      "\n",
      "The coded word is: H0115\n",
      "\n"
     ]
    }
   ],
   "source": [
    "soundex=[0,1,2,3,0,1,2,0,0,2,2,4,5,5,0,1,2,6,2,3,0,1,0,2,0,2]\n",
    " \n",
    "word=input(\"Input the word be hashed: \")\n",
    " \n",
    "word=word.upper()\n",
    " \n",
    "coded=word[0]\n",
    " \n",
    "for a in word[1:len(word)]:\n",
    "    i=65-ord(a)\n",
    "    coded=coded+str(soundex[i])\n",
    "print() \n",
    "print(\"The coded word is: \"+coded)\n",
    "print()"
   ]
  },
  {
   "cell_type": "markdown",
   "metadata": {},
   "source": [
    "### 75. Write a Python program to get the copyright information."
   ]
  },
  {
   "cell_type": "code",
   "execution_count": 47,
   "metadata": {},
   "outputs": [
    {
     "name": "stdout",
     "output_type": "stream",
     "text": [
      "\n",
      "Python Copyright Information\n",
      "Copyright (c) 2001-2018 Python Software Foundation.\n",
      "All Rights Reserved.\n",
      "\n",
      "Copyright (c) 2000 BeOpen.com.\n",
      "All Rights Reserved.\n",
      "\n",
      "Copyright (c) 1995-2001 Corporation for National Research Initiatives.\n",
      "All Rights Reserved.\n",
      "\n",
      "Copyright (c) 1991-1995 Stichting Mathematisch Centrum, Amsterdam.\n",
      "All Rights Reserved.\n",
      "\n"
     ]
    }
   ],
   "source": [
    "import sys\n",
    "print(\"\\nPython Copyright Information\")\n",
    "print(sys.copyright)\n",
    "print()"
   ]
  },
  {
   "cell_type": "markdown",
   "metadata": {},
   "source": [
    "### 76. Write a Python program to get the command-line arguments (name of the script, the number of arguments, arguments) passed to a script."
   ]
  },
  {
   "cell_type": "code",
   "execution_count": 52,
   "metadata": {},
   "outputs": [
    {
     "name": "stdout",
     "output_type": "stream",
     "text": [
      "This is the name/path of the script: /home/rajat/anaconda3/lib/python3.6/site-packages/ipykernel_launcher.py\n",
      "Number of arguments: 3\n",
      "Argument List: ['/home/rajat/anaconda3/lib/python3.6/site-packages/ipykernel_launcher.py', '-f', '/home/rajat/.local/share/jupyter/runtime/kernel-ea6ba9d8-2423-46cf-b73d-2c324a28db2f.json']\n"
     ]
    }
   ],
   "source": [
    "import sys\n",
    "print(\"This is the name/path of the script:\",sys.argv[0])\n",
    "print(\"Number of arguments:\",len(sys.argv))\n",
    "print(\"Argument List:\",str(sys.argv))"
   ]
  },
  {
   "cell_type": "markdown",
   "metadata": {},
   "source": [
    "### 77. Write a Python program to test whether the system is a big-endian platform or little-endian platform."
   ]
  },
  {
   "cell_type": "code",
   "execution_count": 53,
   "metadata": {},
   "outputs": [
    {
     "name": "stdout",
     "output_type": "stream",
     "text": [
      "\n",
      "Little-endian platform.\n",
      "\n"
     ]
    }
   ],
   "source": [
    "import sys\n",
    "print()\n",
    "if sys.byteorder == \"little\":\n",
    "    #intel, alpha\n",
    "    print(\"Little-endian platform.\")\n",
    "else:\n",
    "    #motorola, sparc\n",
    "    print(\"Big-endian platform.\")\n",
    "print()"
   ]
  },
  {
   "cell_type": "markdown",
   "metadata": {},
   "source": [
    "### 78. Write a Python program to find the available built-in modules."
   ]
  },
  {
   "cell_type": "code",
   "execution_count": 56,
   "metadata": {},
   "outputs": [
    {
     "name": "stdout",
     "output_type": "stream",
     "text": [
      "\n",
      "Please wait a moment while I gather a list of all available modules...\n",
      "\n",
      "IPython             caffe2              keras               scripts\n",
      "OpenGL              calendar            keras_applications  secrets\n",
      "OpenSSL             certifi             keras_metrics       select\n",
      "PIL                 cffi                keras_preprocessing selectors\n",
      "PyQt5               cgi                 keras_self_attention send2trash\n",
      "__future__          cgitb               keyword             setup\n",
      "_ast                chardet             kiwisolver          setuptools\n",
      "_asyncio            chunk               lib2to3             shelve\n",
      "_bisect             click               libfuturize         shlex\n",
      "_blake2             clyent              libpasteurize       shutil\n",
      "_bootlocale         cmath               linecache           signal\n",
      "_bz2                cmd                 locale              sip\n",
      "_cffi_backend       code                logging             sipconfig\n",
      "_codecs             codecs              lzma                sipdistutils\n",
      "_codecs_cn          codeop              macpath             site\n",
      "_codecs_hk          collections         macurl2path         six\n",
      "_codecs_iso2022     colorsys            mailbox             sklearn\n",
      "_codecs_jp          compileall          mailcap             smtpd\n",
      "_codecs_kr          concurrent          mako                smtplib\n",
      "_codecs_tw          conda               markdown            sndhdr\n",
      "_collections        conda_build         markupsafe          socket\n",
      "_collections_abc    conda_env           marshal             socketserver\n",
      "_compat_pickle      conda_package_handling math                socks\n",
      "_compression        conda_verify        matplotlib          sockshandler\n",
      "_crypt              configparser        mimetypes           soupsieve\n",
      "_csv                confuse             missingno           spacy\n",
      "_ctypes             contextlib          mistune             sparkpickle\n",
      "_ctypes_test        copy                mkl                 spwd\n",
      "_curses             copyreg             mkl_fft             sqlite3\n",
      "_curses_panel       crypt               mkl_random          sre_compile\n",
      "_datetime           cryptography        mmap                sre_constants\n",
      "_decimal            csv                 modulefinder        sre_parse\n",
      "_dummy_thread       ctypes              multiprocessing     srsly\n",
      "_elementtree        curses              murmurhash          ssl\n",
      "_functools          cycler              navigator_updater   stat\n",
      "_hashlib            cymem               nbconvert           statistics\n",
      "_heapq              cythonmagic         nbformat            storemagic\n",
      "_imp                datetime            netrc               string\n",
      "_io                 dateutil            nis                 stringdist\n",
      "_json               dbm                 nntplib             stringprep\n",
      "_locale             decimal             notebook            struct\n",
      "_lsprof             decorator           ntpath              subprocess\n",
      "_lzma               defusedxml          nturl2path          sunau\n",
      "_markupbase         difflib             numbers             symbol\n",
      "_md5                dis                 numexpr             sympyprinting\n",
      "_multibytecodec     distutils           numpy               symtable\n",
      "_multiprocessing    docs                olefile             sys\n",
      "_opcode             doctest             opcode              sysconfig\n",
      "_operator           dummy_threading     operator            syslog\n",
      "_osx_support        easy_install        optparse            tables\n",
      "_pickle             email               os                  tabnanny\n",
      "_posixsubprocess    encodings           osmapi              tangled_up_in_unicode\n",
      "_pydecimal          ensurepip           ossaudiodev         tarfile\n",
      "_pyio               entrypoints         pandas              telnetlib\n",
      "_pyrsistent_version enum                pandas_profiling    tempfile\n",
      "_random             errno               pandocfilters       tensorboard\n",
      "_sha1               faulthandler        parser              tensorflow\n",
      "_sha256             fcntl               parso               termcolor\n",
      "_sha3               filecmp             past                terminado\n",
      "_sha512             fileinput           pathlib             termios\n",
      "_signal             filelock            pdb                 test\n",
      "_sitebuiltins       findspark           pexpect             test_data\n",
      "_socket             flask               pickle              test_pycosat\n",
      "_sqlite3            flask_restful       pickleshare         testpath\n",
      "_sre                fnmatch             pickletools         tests\n",
      "_ssl                folium              pip                 textwrap\n",
      "_stat               formatter           pipes               theano\n",
      "_string             fractions           pkg_resources       thinc\n",
      "_strptime           freeze              pkginfo             this\n",
      "_struct             ftplib              pkgutil             threading\n",
      "_symtable           functools           plac                time\n",
      "_sysconfigdata_i686_conda_cos6_linux_gnu future              plac_core           timeit\n",
      "_sysconfigdata_m_linux_x86_64-linux-gnu gast                plac_ext            tkinter\n",
      "_sysconfigdata_powerpc64le_conda_cos7_linux_gnu gc                  plac_tk             token\n",
      "_sysconfigdata_x86_64_apple_darwin13_4_0 genericpath         platform            tokenize\n",
      "_sysconfigdata_x86_64_conda_cos6_linux_gnu getopt              plistlib            torch\n",
      "_testbuffer         getpass             poplib              torchvision\n",
      "_testcapi           gettext             posix               tornado\n",
      "_testimportmultiple glob                posixpath           tqdm\n",
      "_testmultiphase     glob2               pprint              trace\n",
      "_thread             grp                 preshed             traceback\n",
      "_threading_local    grpc                profile             tracemalloc\n",
      "_tkinter            gzip                prometheus_client   traitlets\n",
      "_tracemalloc        h5py                prompt_toolkit      tty\n",
      "_warnings           hashlib             pstats              turtle\n",
      "_weakref            haversine           psutil              turtledemo\n",
      "_weakrefset         heapq               pty                 types\n",
      "_yaml               hmac                ptyprocess          typing\n",
      "abc                 html                pvectorc            unicodedata\n",
      "absl                htmlmin             pwd                 unittest\n",
      "aifc                http                py_compile          urllib\n",
      "anaconda_navigator  idlelib             pyclbr              urllib3\n",
      "aniso8601           idna                pycosat             uu\n",
      "antigravity         imagehash           pycparser           uuid\n",
      "argparse            imaplib             pydoc               venv\n",
      "array               imblearn            pydoc_data          visions\n",
      "ast                 imghdr              pyexpat             warnings\n",
      "astor               imp                 pygeohash           wasabi\n",
      "asynchat            importlib           pygments            wave\n",
      "asyncio             importlib_metadata  pygpu               wcwidth\n",
      "asyncore            inspect             pylab               weakref\n",
      "atexit              io                  pyparsing           webbrowser\n",
      "attr                ipaddress           pyrsistent          webencodings\n",
      "audioop             ipykernel           pyspark             werkzeug\n",
      "autoreload          ipykernel_launcher  pytz                wheel\n",
      "backcall            ipython_genutils    qtpy                widgetsnbextension\n",
      "backports           ipywidgets          queue               wsgiref\n",
      "base64              itertools           quopri              xdrlib\n",
      "bdb                 itsdangerous        random              xml\n",
      "bin                 jedi                re                  xmlrpc\n",
      "binascii            jinja2              readline            xmltodict\n",
      "binhex              joblib              reprlib             xxlimited\n",
      "binstar_client      json                requests            xxsubtype\n",
      "bisect              json5               resource            yaml\n",
      "bleach              jsonlines           rlcompleter         zipapp\n",
      "blis                jsonschema          rmagic              zipfile\n",
      "branca              jupyter             ruamel_yaml         zipimport\n",
      "bs4                 jupyter_client      run-tests           zipp\n",
      "builtins            jupyter_core        runpy               zlib\n",
      "bz2                 jupyterlab          sched               zmq\n",
      "cProfile            jupyterlab_server   scipy               \n",
      "\n",
      "Enter any module name to get more help.  Or, type \"modules spam\" to search\n",
      "for modules whose name or summary contain the string \"spam\".\n",
      "\n"
     ]
    }
   ],
   "source": [
    "help('modules') "
   ]
  },
  {
   "cell_type": "markdown",
   "metadata": {},
   "source": [
    "### 79. Write a Python program to get the size of an object in bytes. "
   ]
  },
  {
   "cell_type": "code",
   "execution_count": 57,
   "metadata": {},
   "outputs": [
    {
     "name": "stdout",
     "output_type": "stream",
     "text": [
      "\n",
      "Memory size of 'one' = 52 bytes\n",
      "Memory size of 'four' = 53 bytes\n",
      "Memory size of 'three' = 54 bytes\n",
      "\n"
     ]
    }
   ],
   "source": [
    "import sys\n",
    "str1 = \"one\"\n",
    "str2 = \"four\"\n",
    "str3 = \"three\"\n",
    "print(\"Memory size of '\"+str1+\"' = \"+str(sys.getsizeof(str1))+ \" bytes\")\n",
    "print(\"Memory size of '\"+str2+\"' = \"+str(sys.getsizeof(str2))+ \" bytes\")\n",
    "print(\"Memory size of '\"+str3+\"' = \"+str(sys.getsizeof(str3))+ \" bytes\")"
   ]
  },
  {
   "cell_type": "markdown",
   "metadata": {},
   "source": [
    "### 80. Write a Python program to get the current value of the recursion limit."
   ]
  },
  {
   "cell_type": "code",
   "execution_count": 59,
   "metadata": {},
   "outputs": [
    {
     "name": "stdout",
     "output_type": "stream",
     "text": [
      "Current value of the recursion limit:\n",
      "3000\n"
     ]
    }
   ],
   "source": [
    "import sys\n",
    "print(\"Current value of the recursion limit:\")\n",
    "print(sys.getrecursionlimit())"
   ]
  },
  {
   "cell_type": "markdown",
   "metadata": {},
   "source": [
    "### 81. Write a Python program to concatenate N strings."
   ]
  },
  {
   "cell_type": "code",
   "execution_count": 63,
   "metadata": {},
   "outputs": [
    {
     "name": "stdout",
     "output_type": "stream",
     "text": [
      "Enter no. of strings:2\n",
      "Enter string 1:hii\n",
      "Enter string 2:how are you?\n",
      " hii how are you?\n",
      "\n",
      "All Colors: Red-White-Black\n"
     ]
    }
   ],
   "source": [
    "n=int(input('Enter no. of strings:'))\n",
    "s=''\n",
    "for i in range(n):\n",
    "    s=s+' '+input('Enter string %d:'%(i+1))\n",
    "print(s)\n",
    "\n",
    "#another approach\n",
    "li = ['Red', 'White', 'Black']  \n",
    "colors = '-'.join(li)\n",
    "print()\n",
    "print(\"All Colors: \"+colors)"
   ]
  },
  {
   "cell_type": "markdown",
   "metadata": {},
   "source": [
    "### 82. Write a Python program to calculate the sum over a container."
   ]
  },
  {
   "cell_type": "code",
   "execution_count": 66,
   "metadata": {},
   "outputs": [
    {
     "name": "stdout",
     "output_type": "stream",
     "text": [
      "Sum of the container:  100\n"
     ]
    }
   ],
   "source": [
    "s = sum([10,20,30,40])\n",
    "print(\"Sum of the container: \", s)\n"
   ]
  },
  {
   "cell_type": "markdown",
   "metadata": {},
   "source": [
    "### 83. Write a Python program to test whether all numbers of a list is greater than a certain number. "
   ]
  },
  {
   "cell_type": "code",
   "execution_count": 67,
   "metadata": {},
   "outputs": [
    {
     "name": "stdout",
     "output_type": "stream",
     "text": [
      "True\n",
      "False\n"
     ]
    }
   ],
   "source": [
    "li=[2,4,8,9,4,47,99,23]\n",
    "print(all(x > 1 for x in li))\n",
    "print(all(x > 4 for x in li))"
   ]
  },
  {
   "cell_type": "markdown",
   "metadata": {},
   "source": [
    "###  84. Write a Python program to count the number occurrence of a specific character in a string."
   ]
  },
  {
   "cell_type": "code",
   "execution_count": 69,
   "metadata": {},
   "outputs": [
    {
     "name": "stdout",
     "output_type": "stream",
     "text": [
      "2\n"
     ]
    }
   ],
   "source": [
    "s = \"Hello! how are you?\"\n",
    "print(s.count(\"e\"))"
   ]
  },
  {
   "cell_type": "markdown",
   "metadata": {},
   "source": [
    "### 85. Write a Python program to check whether a file path is a file or a directory."
   ]
  },
  {
   "cell_type": "code",
   "execution_count": 72,
   "metadata": {},
   "outputs": [
    {
     "name": "stdout",
     "output_type": "stream",
     "text": [
      "It is a normal file\n",
      "\n"
     ]
    }
   ],
   "source": [
    "import os  \n",
    "path=\"myfile.txt\"  \n",
    "if os.path.isdir(path):  \n",
    "    print(\"It is a directory\")  \n",
    "elif os.path.isfile(path):  \n",
    "    print(\"It is a normal file\")  \n",
    "else:  \n",
    "    print(\"It is a special file\" )\n",
    "print()"
   ]
  },
  {
   "cell_type": "markdown",
   "metadata": {},
   "source": [
    "### 86. Write a Python program to get the ASCII value of a character."
   ]
  },
  {
   "cell_type": "code",
   "execution_count": 74,
   "metadata": {},
   "outputs": [
    {
     "name": "stdout",
     "output_type": "stream",
     "text": [
      "65\n",
      "97\n",
      "49\n",
      "48\n",
      "64\n"
     ]
    }
   ],
   "source": [
    "print(ord('A'))\n",
    "print(ord('a'))\n",
    "print(ord('1'))\n",
    "print(ord('0'))\n",
    "print(ord('@'))"
   ]
  },
  {
   "cell_type": "markdown",
   "metadata": {},
   "source": [
    "### 87. Write a Python program to get the size of a file."
   ]
  },
  {
   "cell_type": "code",
   "execution_count": 76,
   "metadata": {},
   "outputs": [
    {
     "name": "stdout",
     "output_type": "stream",
     "text": [
      "The size of myfile.txt is : 0 Bytes\n"
     ]
    }
   ],
   "source": [
    "import os\n",
    "file_size = os.path.getsize(\"myfile.txt\")\n",
    "print(\"The size of myfile.txt is :\",file_size,\"Bytes\")"
   ]
  },
  {
   "cell_type": "markdown",
   "metadata": {},
   "source": [
    "### 88. Given variables x=30 and y=20, write a Python program to print t \"30+20=50\"."
   ]
  },
  {
   "cell_type": "code",
   "execution_count": 77,
   "metadata": {},
   "outputs": [
    {
     "name": "stdout",
     "output_type": "stream",
     "text": [
      "t\"30+20=50\"\n"
     ]
    }
   ],
   "source": [
    "x=30\n",
    "y=20\n",
    "print('t\\\"%d+%d=%d\\\"'%(x,y,(x+y)))"
   ]
  },
  {
   "cell_type": "markdown",
   "metadata": {},
   "source": [
    "### 89. Write a Python program to perform an action if a condition is true. \n",
    "Given a variable name, if the value is 1, display the string \"First day of a Month!\" and do nothing if the value is not equal."
   ]
  },
  {
   "cell_type": "code",
   "execution_count": 84,
   "metadata": {
    "scrolled": true
   },
   "outputs": [
    {
     "name": "stdout",
     "output_type": "stream",
     "text": [
      "Enter a date of month:1\n"
     ]
    },
    {
     "data": {
      "text/plain": [
       "'First day of a Month!'"
      ]
     },
     "execution_count": 84,
     "metadata": {},
     "output_type": "execute_result"
    }
   ],
   "source": [
    "def val():\n",
    "    v=int(input('Enter a date of month:'))\n",
    "    if v==1:\n",
    "        return \"First day of a Month!\"\n",
    "    else:\n",
    "        return 'Not the first day of the month'\n",
    "val()"
   ]
  },
  {
   "cell_type": "markdown",
   "metadata": {},
   "source": [
    "### 90. Write a Python program to create a copy of its own source code. "
   ]
  },
  {
   "cell_type": "code",
   "execution_count": 85,
   "metadata": {},
   "outputs": [
    {
     "name": "stdout",
     "output_type": "stream",
     "text": [
      "print(lambda str='print(lambda str=%r: (str %% str))()': (str % str))()\n"
     ]
    }
   ],
   "source": [
    "print((lambda str='print(lambda str=%r: (str %% str))()': (str % str))())"
   ]
  },
  {
   "cell_type": "markdown",
   "metadata": {},
   "source": [
    "### 91. Write a Python program to swap two variables."
   ]
  },
  {
   "cell_type": "code",
   "execution_count": 88,
   "metadata": {},
   "outputs": [
    {
     "name": "stdout",
     "output_type": "stream",
     "text": [
      "Before swap a = 10 and b = 20\n",
      "After swaping a = 20 and b = 10\n"
     ]
    }
   ],
   "source": [
    "a = 10\n",
    "b = 20\n",
    "print(\"Before swap a = %d and b = %d\" %(a, b))\n",
    "a, b = b, a\n",
    "print(\"After swaping a = %d and b = %d\" %(a, b))"
   ]
  },
  {
   "cell_type": "markdown",
   "metadata": {},
   "source": [
    "### 92. Write a Python program to define a string containing special characters in various forms."
   ]
  },
  {
   "cell_type": "code",
   "execution_count": 89,
   "metadata": {},
   "outputs": [
    {
     "name": "stdout",
     "output_type": "stream",
     "text": [
      "\\#{'}${\"}@/\n",
      "\\#{'}${\"}@/\n",
      "\\#{'}${\"}@/\n",
      "\\#{'}${\"}@/\n",
      "\\#{'}${\"}@/\n",
      "\\#{'}${\"}@/\n"
     ]
    }
   ],
   "source": [
    "print(\"\\#{'}${\\\"}@/\")\n",
    "print(\"\\#{'}${\"'\"'\"}@/\")\n",
    "print(r\"\"\"\\#{'}${\"}@/\"\"\")\n",
    "print('\\#{\\'}${\"}@/')\n",
    "print('\\#{'\"'\"'}${\"}@/')\n",
    "print(r'''\\#{'}${\"}@/''')"
   ]
  },
  {
   "cell_type": "markdown",
   "metadata": {},
   "source": [
    "### 93. Write a Python program to get the identity of an object."
   ]
  },
  {
   "cell_type": "code",
   "execution_count": 91,
   "metadata": {},
   "outputs": [
    {
     "name": "stdout",
     "output_type": "stream",
     "text": [
      "140342269449040\n"
     ]
    }
   ],
   "source": [
    "obj1 = object()\n",
    "obj1_address = id(obj1)\n",
    "print(obj1_address)"
   ]
  },
  {
   "cell_type": "markdown",
   "metadata": {},
   "source": [
    "### 94. Write a Python program to convert a byte string to a list of integers."
   ]
  },
  {
   "cell_type": "code",
   "execution_count": 93,
   "metadata": {},
   "outputs": [
    {
     "name": "stdout",
     "output_type": "stream",
     "text": [
      "[65, 98, 99]\n"
     ]
    }
   ],
   "source": [
    "x = b'Abc'\n",
    "print(list(x))"
   ]
  },
  {
   "cell_type": "markdown",
   "metadata": {},
   "source": [
    "### 95. Write a Python program to check whether a string is numeric."
   ]
  },
  {
   "cell_type": "code",
   "execution_count": 96,
   "metadata": {},
   "outputs": [
    {
     "name": "stdout",
     "output_type": "stream",
     "text": [
      "\n",
      "Not numeric\n"
     ]
    }
   ],
   "source": [
    "str = 'a123'\n",
    "try:\n",
    "    i = float(str)\n",
    "except (ValueError, TypeError):\n",
    "    print('\\nNot numeric')"
   ]
  },
  {
   "cell_type": "markdown",
   "metadata": {},
   "source": [
    "### 96. Write a Python program to print the current call stack."
   ]
  },
  {
   "cell_type": "code",
   "execution_count": 98,
   "metadata": {},
   "outputs": [
    {
     "name": "stderr",
     "output_type": "stream",
     "text": [
      "  File \"/home/rajat/anaconda3/lib/python3.6/runpy.py\", line 193, in _run_module_as_main\n",
      "    \"__main__\", mod_spec)\n",
      "  File \"/home/rajat/anaconda3/lib/python3.6/runpy.py\", line 85, in _run_code\n",
      "    exec(code, run_globals)\n",
      "  File \"/home/rajat/anaconda3/lib/python3.6/site-packages/ipykernel_launcher.py\", line 16, in <module>\n",
      "    app.launch_new_instance()\n",
      "  File \"/home/rajat/anaconda3/lib/python3.6/site-packages/traitlets/config/application.py\", line 664, in launch_instance\n",
      "    app.start()\n",
      "  File \"/home/rajat/anaconda3/lib/python3.6/site-packages/ipykernel/kernelapp.py\", line 583, in start\n",
      "    self.io_loop.start()\n",
      "  File \"/home/rajat/anaconda3/lib/python3.6/site-packages/tornado/platform/asyncio.py\", line 149, in start\n",
      "    self.asyncio_loop.run_forever()\n",
      "  File \"/home/rajat/anaconda3/lib/python3.6/asyncio/base_events.py\", line 438, in run_forever\n",
      "    self._run_once()\n",
      "  File \"/home/rajat/anaconda3/lib/python3.6/asyncio/base_events.py\", line 1451, in _run_once\n",
      "    handle._run()\n",
      "  File \"/home/rajat/anaconda3/lib/python3.6/asyncio/events.py\", line 145, in _run\n",
      "    self._callback(*self._args)\n",
      "  File \"/home/rajat/anaconda3/lib/python3.6/site-packages/tornado/ioloop.py\", line 690, in <lambda>\n",
      "    lambda f: self._run_callback(functools.partial(callback, future))\n",
      "  File \"/home/rajat/anaconda3/lib/python3.6/site-packages/tornado/ioloop.py\", line 743, in _run_callback\n",
      "    ret = callback()\n",
      "  File \"/home/rajat/anaconda3/lib/python3.6/site-packages/tornado/gen.py\", line 787, in inner\n",
      "    self.run()\n",
      "  File \"/home/rajat/anaconda3/lib/python3.6/site-packages/tornado/gen.py\", line 748, in run\n",
      "    yielded = self.gen.send(value)\n",
      "  File \"/home/rajat/anaconda3/lib/python3.6/site-packages/ipykernel/kernelbase.py\", line 361, in process_one\n",
      "    yield gen.maybe_future(dispatch(*args))\n",
      "  File \"/home/rajat/anaconda3/lib/python3.6/site-packages/tornado/gen.py\", line 209, in wrapper\n",
      "    yielded = next(result)\n",
      "  File \"/home/rajat/anaconda3/lib/python3.6/site-packages/ipykernel/kernelbase.py\", line 268, in dispatch_shell\n",
      "    yield gen.maybe_future(handler(stream, idents, msg))\n",
      "  File \"/home/rajat/anaconda3/lib/python3.6/site-packages/tornado/gen.py\", line 209, in wrapper\n",
      "    yielded = next(result)\n",
      "  File \"/home/rajat/anaconda3/lib/python3.6/site-packages/ipykernel/kernelbase.py\", line 541, in execute_request\n",
      "    user_expressions, allow_stdin,\n",
      "  File \"/home/rajat/anaconda3/lib/python3.6/site-packages/tornado/gen.py\", line 209, in wrapper\n",
      "    yielded = next(result)\n",
      "  File \"/home/rajat/anaconda3/lib/python3.6/site-packages/ipykernel/ipkernel.py\", line 300, in do_execute\n",
      "    res = shell.run_cell(code, store_history=store_history, silent=silent)\n",
      "  File \"/home/rajat/anaconda3/lib/python3.6/site-packages/ipykernel/zmqshell.py\", line 536, in run_cell\n",
      "    return super(ZMQInteractiveShell, self).run_cell(*args, **kwargs)\n",
      "  File \"/home/rajat/anaconda3/lib/python3.6/site-packages/IPython/core/interactiveshell.py\", line 2858, in run_cell\n",
      "    raw_cell, store_history, silent, shell_futures)\n",
      "  File \"/home/rajat/anaconda3/lib/python3.6/site-packages/IPython/core/interactiveshell.py\", line 2886, in _run_cell\n",
      "    return runner(coro)\n",
      "  File \"/home/rajat/anaconda3/lib/python3.6/site-packages/IPython/core/async_helpers.py\", line 68, in _pseudo_sync_runner\n",
      "    coro.send(None)\n",
      "  File \"/home/rajat/anaconda3/lib/python3.6/site-packages/IPython/core/interactiveshell.py\", line 3063, in run_cell_async\n",
      "    interactivity=interactivity, compiler=compiler, result=result)\n",
      "  File \"/home/rajat/anaconda3/lib/python3.6/site-packages/IPython/core/interactiveshell.py\", line 3254, in run_ast_nodes\n",
      "    if (await self.run_code(code, result,  async_=asy)):\n",
      "  File \"/home/rajat/anaconda3/lib/python3.6/site-packages/IPython/core/interactiveshell.py\", line 3331, in run_code\n",
      "    exec(code_obj, self.user_global_ns, self.user_ns)\n",
      "  File \"<ipython-input-98-2192c012bf1c>\", line 6, in <module>\n",
      "    f1()\n",
      "  File \"<ipython-input-98-2192c012bf1c>\", line 3, in f1\n",
      "    return abc()\n",
      "  File \"<ipython-input-98-2192c012bf1c>\", line 5, in abc\n",
      "    traceback.print_stack()\n"
     ]
    }
   ],
   "source": [
    "import traceback\n",
    "def f1():\n",
    "    return abc()\n",
    "def abc():\n",
    "    traceback.print_stack()\n",
    "f1()"
   ]
  },
  {
   "cell_type": "markdown",
   "metadata": {},
   "source": [
    "### 97. Write a Python program to list the special variables used within the language."
   ]
  },
  {
   "cell_type": "code",
   "execution_count": 100,
   "metadata": {},
   "outputs": [
    {
     "name": "stdout",
     "output_type": "stream",
     "text": [
      "ArithmeticError AssertionError AttributeError BaseException BlockingIOError BrokenPipeError BufferError BytesWarning\n",
      "ChildProcessError ConnectionAbortedError ConnectionError ConnectionRefusedError ConnectionResetError DeprecationWarning EOFError Ellipsis\n",
      "EnvironmentError Exception False FileExistsError FileNotFoundError FloatingPointError FutureWarning GeneratorExit\n",
      "GetTime IOError ImportError ImportWarning In IndentationError IndexError InterruptedError\n",
      "IsADirectoryError KeyError KeyboardInterrupt LookupError MemoryError ModuleNotFoundError NameError None\n",
      "NotADirectoryError NotImplemented NotImplementedError OSError Out OverflowError PendingDeprecationWarning PermissionError\n",
      "ProcessLookupError RecursionError ReferenceError ResourceWarning RuntimeError RuntimeWarning ST_CTIME ST_MODE\n",
      "S_ISREG StopAsyncIteration StopIteration SyntaxError SyntaxWarning SystemError SystemExit TabError\n",
      "TimeoutError True TypeError UnboundLocalError UnicodeDecodeError UnicodeEncodeError UnicodeError UnicodeTranslateError\n",
      "UnicodeWarning UserWarning ValueError Warning ZeroDivisionError _81 _82 _83\n",
      "_84 __ __IPYTHON__ ___ __build_class__ __builtin__ __builtins__ __debug__\n",
      "__doc__ __import__ __loader__ __name__ __package__ __pybind11_internals_v3__ __pybind11_internals_v3_gcc_libstdcpp_cxxabi1011__ __spec__\n",
      "_dh _i _i1 _i10 _i100 _i11 _i12 _i13\n",
      "_i14 _i15 _i16 _i17 _i18 _i19 _i2 _i20\n",
      "_i21 _i22 _i23 _i24 _i25 _i26 _i27 _i28\n",
      "_i29 _i3 _i30 _i31 _i32 _i33 _i34 _i35\n",
      "_i36 _i37 _i38 _i39 _i4 _i40 _i41 _i42\n",
      "_i43 _i44 _i45 _i46 _i47 _i48 _i49 _i5\n",
      "_i50 _i51 _i52 _i53 _i54 _i55 _i56 _i57\n",
      "_i58 _i59 _i6 _i60 _i61 _i62 _i63 _i64\n",
      "_i65 _i66 _i67 _i68 _i69 _i7 _i70 _i71\n",
      "_i72 _i73 _i74 _i75 _i76 _i77 _i78 _i79\n",
      "_i8 _i80 _i81 _i82 _i83 _i84 _i85 _i86\n",
      "_i87 _i88 _i89 _i9 _i90 _i91 _i92 _i93\n",
      "_i94 _i95 _i96 _i97 _i98 _i99 _ih _ii\n",
      "_iii _oh a a1 a2 a3 abc abs\n",
      "absolute_file_path all any ascii atm b bin bool\n",
      "bytearray bytes callable cdate chr classmethod coded colors\n",
      "compile complex copyright credits data datetime day delattr\n",
      "dict dir dir_path display divmod enumerate eval exec\n",
      "exit f1 file_size files files_list filter float format\n",
      "frozenset get_ipython getattr glob globals hasattr hash height\n",
      "help hex hour id input int isfile isinstance\n",
      "issubclass iter join kpa len li license list\n",
      "listdir locals map math math_ls max memoryview min\n",
      "minute mmhg module_name n next obj1 obj1_address object\n",
      "oct open ord os path pow print property\n",
      "psi pwd quit range repr reversed round s\n",
      "sec set setattr slice sorted soundex staticmethod str\n",
      "str1 str2 str3 sum sum_digits super sys textwrap\n",
      "time timedelta traceback tuple type v val vars\n",
      "weight word x x1 x2 y y1 y2\n",
      "z zip\n"
     ]
    }
   ],
   "source": [
    "s_var_names = sorted((set(globals().keys()) | set(__builtins__.__dict__.keys())) - set('_ names i'.split()))\n",
    "print( '\\n'.join(' '.join(s_var_names[i:i+8]) for i in range(0, len(s_var_names), 8)) )"
   ]
  },
  {
   "cell_type": "markdown",
   "metadata": {},
   "source": [
    "### 98. Write a Python program to get the system time."
   ]
  },
  {
   "cell_type": "code",
   "execution_count": 101,
   "metadata": {},
   "outputs": [
    {
     "name": "stdout",
     "output_type": "stream",
     "text": [
      "Fri Jul  3 21:26:09 2020\n"
     ]
    }
   ],
   "source": [
    "import time\n",
    "print(time.ctime())"
   ]
  },
  {
   "cell_type": "markdown",
   "metadata": {},
   "source": [
    "### 99. Write a Python program to clear the screen or terminal."
   ]
  },
  {
   "cell_type": "code",
   "execution_count": 108,
   "metadata": {},
   "outputs": [
    {
     "data": {
      "text/plain": [
       "0"
      ]
     },
     "execution_count": 108,
     "metadata": {},
     "output_type": "execute_result"
    }
   ],
   "source": [
    "import os\n",
    "import time\n",
    "os.system('clear')"
   ]
  },
  {
   "cell_type": "markdown",
   "metadata": {},
   "source": [
    "### 100. Write a Python program to get the name of the host on which the routine is running."
   ]
  },
  {
   "cell_type": "code",
   "execution_count": 109,
   "metadata": {},
   "outputs": [
    {
     "name": "stdout",
     "output_type": "stream",
     "text": [
      "Host name: legion\n"
     ]
    }
   ],
   "source": [
    "import socket\n",
    "host_name = socket.gethostname()\n",
    "print(\"Host name:\", host_name)"
   ]
  },
  {
   "cell_type": "code",
   "execution_count": null,
   "metadata": {},
   "outputs": [],
   "source": []
  }
 ],
 "metadata": {
  "kernelspec": {
   "display_name": "Python 3",
   "language": "python",
   "name": "python3"
  },
  "language_info": {
   "codemirror_mode": {
    "name": "ipython",
    "version": 3
   },
   "file_extension": ".py",
   "mimetype": "text/x-python",
   "name": "python",
   "nbconvert_exporter": "python",
   "pygments_lexer": "ipython3",
   "version": "3.6.8"
  }
 },
 "nbformat": 4,
 "nbformat_minor": 4
}
